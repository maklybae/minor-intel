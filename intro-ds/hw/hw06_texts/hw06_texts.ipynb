{
  "cells": [
    {
      "cell_type": "markdown",
      "metadata": {
        "id": "Ffq6A2-ifzAA"
      },
      "source": [
        "# Интеллектуальный анализ данных – весна 2025\n",
        "# Домашнее задание 6: классификация текстов"
      ]
    },
    {
      "cell_type": "markdown",
      "metadata": {
        "id": "EPcxtekTA1Sm"
      },
      "source": [
        "Правила:\n",
        "\n",
        "\n",
        "\n",
        "*   Домашнее задание оценивается в 10 баллов.\n",
        "*   Можно использовать без доказательства любые результаты, встречавшиеся на лекциях или семинарах по курсу, если получение этих результатов не является вопросом задания.\n",
        "*  Можно использовать любые свободные источники с *обязательным* указанием ссылки на них.\n",
        "*  Плагиат не допускается. При обнаружении случаев списывания, 0 за работу выставляется всем участникам нарушения, даже если можно установить, кто у кого списал.\n",
        "*  Старайтесь сделать код как можно более оптимальным. В частности, будет штрафоваться использование циклов в тех случаях, когда операцию можно совершить при помощи инструментов библиотек, о которых рассказывалось в курсе.\n",
        "* Если в задании есть вопрос на рассуждение, то за отсутствие ответа на него балл за задание будет снижен вполовину."
      ]
    },
    {
      "cell_type": "markdown",
      "metadata": {
        "id": "itRtFtrOf0_b"
      },
      "source": [
        "В этом домашнем задании вам предстоит построить классификатор текстов.\n",
        "\n",
        "Будем предсказывать эмоциональную окраску твиттов о коронавирусе.\n",
        "\n"
      ]
    },
    {
      "cell_type": "code",
      "execution_count": 1,
      "metadata": {
        "id": "tNGRVO7_g9mz"
      },
      "outputs": [],
      "source": [
        "import numpy as np\n",
        "import pandas as pd\n",
        "from typing import List\n",
        "import matplotlib.pyplot as plt\n",
        "import seaborn as sns\n",
        "from string import punctuation\n",
        "\n",
        "plt.style.use(\"seaborn-v0_8-whitegrid\")"
      ]
    },
    {
      "cell_type": "code",
      "execution_count": 2,
      "metadata": {
        "colab": {
          "base_uri": "https://localhost:8080/",
          "height": 348
        },
        "id": "zOy8iHJQg_Ss",
        "outputId": "6a32c325-1b9a-4895-ab22-5e985016da91"
      },
      "outputs": [
        {
          "data": {
            "application/vnd.microsoft.datawrangler.viewer.v0+json": {
              "columns": [
                {
                  "name": "index",
                  "rawType": "int64",
                  "type": "integer"
                },
                {
                  "name": "UserName",
                  "rawType": "int64",
                  "type": "integer"
                },
                {
                  "name": "ScreenName",
                  "rawType": "int64",
                  "type": "integer"
                },
                {
                  "name": "Location",
                  "rawType": "object",
                  "type": "string"
                },
                {
                  "name": "TweetAt",
                  "rawType": "object",
                  "type": "string"
                },
                {
                  "name": "OriginalTweet",
                  "rawType": "object",
                  "type": "string"
                },
                {
                  "name": "Sentiment",
                  "rawType": "object",
                  "type": "string"
                }
              ],
              "conversionMethod": "pd.DataFrame",
              "ref": "56a7bcc4-fcec-46a4-adb7-b79ba28fe578",
              "rows": [
                [
                  "19762",
                  "27871",
                  "72823",
                  "Durham, England",
                  "26-03-2020",
                  "So I think itÃÂs fair to say weÃÂre all a little stressed about coronavirus. Especially those of us working for the NHS, but IÃÂve just spilled hand sanitizer all over my carbonara whilst on nightshift ? a new level of stress and sadness has just been discovered! #nhs #coronavirus",
                  "Negative"
                ],
                [
                  "24048",
                  "33193",
                  "78145",
                  "Fort Bend County, TX",
                  "05-04-2020",
                  "While I disagree with activists #churches being allowed to continue w/their tax exempt status... Churches would do well to remember they are NOT A BUSINESS....\r\r\n\r\r\nAnd #SocialDistancing can be maintained better than a supermarket in an enclosed church.\r\r\n\r\r\n#Covid19",
                  "Positive"
                ],
                [
                  "19755",
                  "27861",
                  "72813",
                  "Beaumont, Texas",
                  "26-03-2020",
                  "Madison's, a bar/restaurant in #Beaumont, pivots to become more like a grocery store during the Covid-19 pandemic. \r\r\n\r\r\nKFDM 4's Rocio de la Fe reports how the owner is managing to keep his doors open to serve the public.\r\r\n\r\r\nhttps://t.co/cZD9OVJfRY https://t.co/YZhDf8XMkF",
                  "Positive"
                ],
                [
                  "15144",
                  "22229",
                  "67181",
                  "Bristol",
                  "23-03-2020",
                  "@kxgrave2002 @MaggieRae20 @PHE_uk @DLapthorne @sainsburys Theas two groups shouldnÃÂt be mixing in the same time and space; the key workers may have been exposed to covid-19 at work and could be asymptomatic or incubating and spread it the most vulnerable",
                  "Negative"
                ]
              ],
              "shape": {
                "columns": 6,
                "rows": 4
              }
            },
            "text/html": [
              "<div>\n",
              "<style scoped>\n",
              "    .dataframe tbody tr th:only-of-type {\n",
              "        vertical-align: middle;\n",
              "    }\n",
              "\n",
              "    .dataframe tbody tr th {\n",
              "        vertical-align: top;\n",
              "    }\n",
              "\n",
              "    .dataframe thead th {\n",
              "        text-align: right;\n",
              "    }\n",
              "</style>\n",
              "<table border=\"1\" class=\"dataframe\">\n",
              "  <thead>\n",
              "    <tr style=\"text-align: right;\">\n",
              "      <th></th>\n",
              "      <th>UserName</th>\n",
              "      <th>ScreenName</th>\n",
              "      <th>Location</th>\n",
              "      <th>TweetAt</th>\n",
              "      <th>OriginalTweet</th>\n",
              "      <th>Sentiment</th>\n",
              "    </tr>\n",
              "  </thead>\n",
              "  <tbody>\n",
              "    <tr>\n",
              "      <th>19762</th>\n",
              "      <td>27871</td>\n",
              "      <td>72823</td>\n",
              "      <td>Durham, England</td>\n",
              "      <td>26-03-2020</td>\n",
              "      <td>So I think itÃÂs fair to say weÃÂre all a ...</td>\n",
              "      <td>Negative</td>\n",
              "    </tr>\n",
              "    <tr>\n",
              "      <th>24048</th>\n",
              "      <td>33193</td>\n",
              "      <td>78145</td>\n",
              "      <td>Fort Bend County, TX</td>\n",
              "      <td>05-04-2020</td>\n",
              "      <td>While I disagree with activists #churches bein...</td>\n",
              "      <td>Positive</td>\n",
              "    </tr>\n",
              "    <tr>\n",
              "      <th>19755</th>\n",
              "      <td>27861</td>\n",
              "      <td>72813</td>\n",
              "      <td>Beaumont, Texas</td>\n",
              "      <td>26-03-2020</td>\n",
              "      <td>Madison's, a bar/restaurant in #Beaumont, pivo...</td>\n",
              "      <td>Positive</td>\n",
              "    </tr>\n",
              "    <tr>\n",
              "      <th>15144</th>\n",
              "      <td>22229</td>\n",
              "      <td>67181</td>\n",
              "      <td>Bristol</td>\n",
              "      <td>23-03-2020</td>\n",
              "      <td>@kxgrave2002 @MaggieRae20 @PHE_uk @DLapthorne ...</td>\n",
              "      <td>Negative</td>\n",
              "    </tr>\n",
              "  </tbody>\n",
              "</table>\n",
              "</div>"
            ],
            "text/plain": [
              "       UserName  ScreenName              Location     TweetAt  \\\n",
              "19762     27871       72823       Durham, England  26-03-2020   \n",
              "24048     33193       78145  Fort Bend County, TX  05-04-2020   \n",
              "19755     27861       72813       Beaumont, Texas  26-03-2020   \n",
              "15144     22229       67181               Bristol  23-03-2020   \n",
              "\n",
              "                                           OriginalTweet Sentiment  \n",
              "19762  So I think itÃÂs fair to say weÃÂre all a ...  Negative  \n",
              "24048  While I disagree with activists #churches bein...  Positive  \n",
              "19755  Madison's, a bar/restaurant in #Beaumont, pivo...  Positive  \n",
              "15144  @kxgrave2002 @MaggieRae20 @PHE_uk @DLapthorne ...  Negative  "
            ]
          },
          "execution_count": 2,
          "metadata": {},
          "output_type": "execute_result"
        }
      ],
      "source": [
        "df = pd.read_csv('tweets_coronavirus.csv', encoding='latin-1')\n",
        "df.sample(4)"
      ]
    },
    {
      "cell_type": "markdown",
      "metadata": {
        "id": "m2OiDog9ZBlS"
      },
      "source": [
        "Для каждого твитта указано:\n",
        "\n",
        "\n",
        "*   UserName - имя пользователя, заменено на целое число для анонимности\n",
        "*   ScreenName - отображающееся имя пользователя, заменено на целое число для анонимности\n",
        "*   Location - местоположение\n",
        "*   TweetAt - дата создания твитта\n",
        "*   OriginalTweet - текст твитта\n",
        "*   Sentiment - эмоциональная окраска твитта (целевая переменная)\n",
        "\n"
      ]
    },
    {
      "cell_type": "markdown",
      "metadata": {
        "id": "pZTMseDkhTC7"
      },
      "source": [
        "## Задание 1 Подготовка (0.5 балла)"
      ]
    },
    {
      "cell_type": "markdown",
      "metadata": {
        "id": "Xx2-odn9hdAW"
      },
      "source": [
        "Целевая переменная находится в колонке `Sentiment`.  Преобразуйте ее таким образом, чтобы она стала бинарной: 1 - если у твитта положительная или очень положительная эмоциональная окраска и 0 - если отрицательная или очень отрицательная."
      ]
    },
    {
      "cell_type": "code",
      "execution_count": 3,
      "metadata": {
        "id": "ZaQKQ1zEjP15"
      },
      "outputs": [
        {
          "data": {
            "text/plain": [
              "Sentiment\n",
              "Positive              11422\n",
              "Negative               9917\n",
              "Extremely Positive     6624\n",
              "Extremely Negative     5481\n",
              "Name: count, dtype: int64"
            ]
          },
          "execution_count": 3,
          "metadata": {},
          "output_type": "execute_result"
        }
      ],
      "source": [
        "df[\"Sentiment\"].value_counts()"
      ]
    },
    {
      "cell_type": "code",
      "execution_count": 4,
      "metadata": {},
      "outputs": [
        {
          "data": {
            "text/plain": [
              "array([1, 0])"
            ]
          },
          "execution_count": 4,
          "metadata": {},
          "output_type": "execute_result"
        }
      ],
      "source": [
        "df[\"Sentiment\"] = df[\"Sentiment\"].map({\"Positive\": 1, \"Negative\": 0, \"Extremely Positive\": 1, \"Extremely Negative\": 0})\n",
        "df[\"Sentiment\"].unique()"
      ]
    },
    {
      "cell_type": "markdown",
      "metadata": {
        "id": "pGq1FxJ-kBo5"
      },
      "source": [
        "Сбалансированы ли классы?"
      ]
    },
    {
      "cell_type": "code",
      "execution_count": 5,
      "metadata": {
        "id": "a7gdNtxckK5V"
      },
      "outputs": [
        {
          "data": {
            "text/plain": [
              "Sentiment\n",
              "1    18046\n",
              "0    15398\n",
              "Name: count, dtype: int64"
            ]
          },
          "execution_count": 5,
          "metadata": {},
          "output_type": "execute_result"
        }
      ],
      "source": [
        "df[\"Sentiment\"].value_counts()"
      ]
    },
    {
      "cell_type": "code",
      "execution_count": 6,
      "metadata": {},
      "outputs": [
        {
          "data": {
            "text/plain": [
              "Sentiment\n",
              "1    0.539589\n",
              "0    0.460411\n",
              "Name: proportion, dtype: float64"
            ]
          },
          "execution_count": 6,
          "metadata": {},
          "output_type": "execute_result"
        }
      ],
      "source": [
        "df[\"Sentiment\"].value_counts(normalize=True)"
      ]
    },
    {
      "cell_type": "markdown",
      "metadata": {
        "id": "Ng8BCelMkWb0"
      },
      "source": [
        "**Ответ:** классы сбалансированы, примерно 50% положительных и 50% отрицательных твитов. "
      ]
    },
    {
      "cell_type": "markdown",
      "metadata": {
        "id": "qmSIBSsLk5Zz"
      },
      "source": [
        "Выведете на экран информацию о пропусках в данных. Если пропуски присутствуют заполните их строкой 'Unknown'."
      ]
    },
    {
      "cell_type": "code",
      "execution_count": 7,
      "metadata": {
        "id": "UhUVRkR5kxa7"
      },
      "outputs": [
        {
          "data": {
            "text/plain": [
              "UserName            0\n",
              "ScreenName          0\n",
              "Location         7049\n",
              "TweetAt             0\n",
              "OriginalTweet       0\n",
              "Sentiment           0\n",
              "dtype: int64"
            ]
          },
          "execution_count": 7,
          "metadata": {},
          "output_type": "execute_result"
        }
      ],
      "source": [
        "df.isna().sum()"
      ]
    },
    {
      "cell_type": "markdown",
      "metadata": {},
      "source": [
        "Пропуски присутствуют только в столбце Location. Заполним их строкой 'Unknown'."
      ]
    },
    {
      "cell_type": "code",
      "execution_count": 8,
      "metadata": {},
      "outputs": [
        {
          "name": "stderr",
          "output_type": "stream",
          "text": [
            "/var/folders/7m/_s2dd8053g97sjss_c0260mc0000gn/T/ipykernel_17513/488821534.py:1: FutureWarning: A value is trying to be set on a copy of a DataFrame or Series through chained assignment using an inplace method.\n",
            "The behavior will change in pandas 3.0. This inplace method will never work because the intermediate object on which we are setting values always behaves as a copy.\n",
            "\n",
            "For example, when doing 'df[col].method(value, inplace=True)', try using 'df.method({col: value}, inplace=True)' or df[col] = df[col].method(value) instead, to perform the operation inplace on the original object.\n",
            "\n",
            "\n",
            "  df[\"Location\"].fillna(\"Unknown\", inplace=True)\n"
          ]
        },
        {
          "data": {
            "text/plain": [
              "UserName         0\n",
              "ScreenName       0\n",
              "Location         0\n",
              "TweetAt          0\n",
              "OriginalTweet    0\n",
              "Sentiment        0\n",
              "dtype: int64"
            ]
          },
          "execution_count": 8,
          "metadata": {},
          "output_type": "execute_result"
        }
      ],
      "source": [
        "df[\"Location\"].fillna(\"Unknown\", inplace=True)\n",
        "df.isna().sum()"
      ]
    },
    {
      "cell_type": "markdown",
      "metadata": {
        "id": "1tzt27tfjUpq"
      },
      "source": [
        "Разделите данные на обучающие и тестовые в соотношении 7 : 3 и укажите `random_state=0`"
      ]
    },
    {
      "cell_type": "code",
      "execution_count": 9,
      "metadata": {
        "id": "xSLOA9tIj9Z6"
      },
      "outputs": [],
      "source": [
        "from sklearn.model_selection import train_test_split\n",
        "\n",
        "train, test = train_test_split(df, test_size=0.3, random_state=0)"
      ]
    },
    {
      "cell_type": "code",
      "execution_count": 10,
      "metadata": {},
      "outputs": [
        {
          "name": "stdout",
          "output_type": "stream",
          "text": [
            "(23410, 6)\n"
          ]
        },
        {
          "data": {
            "text/plain": [
              "Sentiment\n",
              "1    0.536694\n",
              "0    0.463306\n",
              "Name: proportion, dtype: float64"
            ]
          },
          "execution_count": 10,
          "metadata": {},
          "output_type": "execute_result"
        }
      ],
      "source": [
        "print(train.shape)\n",
        "train[\"Sentiment\"].value_counts(normalize=True)"
      ]
    },
    {
      "cell_type": "code",
      "execution_count": 11,
      "metadata": {},
      "outputs": [
        {
          "name": "stdout",
          "output_type": "stream",
          "text": [
            "(10034, 6)\n"
          ]
        },
        {
          "data": {
            "text/plain": [
              "Sentiment\n",
              "1    0.546342\n",
              "0    0.453658\n",
              "Name: proportion, dtype: float64"
            ]
          },
          "execution_count": 11,
          "metadata": {},
          "output_type": "execute_result"
        }
      ],
      "source": [
        "print(test.shape)\n",
        "test[\"Sentiment\"].value_counts(normalize=True)"
      ]
    },
    {
      "cell_type": "markdown",
      "metadata": {
        "id": "J9RrPUsJlL60"
      },
      "source": [
        "## Задание 2 Токенизация (3 балла)"
      ]
    },
    {
      "cell_type": "markdown",
      "metadata": {
        "id": "2Dz_b7Xopc_R"
      },
      "source": [
        "Постройте словарь на основе обучающей выборки и посчитайте количество встреч каждого токена с использованием самой простой токенизации - деления текстов по пробельным символам и приведения токенов в нижний регистр."
      ]
    },
    {
      "cell_type": "markdown",
      "metadata": {},
      "source": [
        "На самом деле можно использовать метод `str.split()`, но его минус в том, что он никак не обрабатывает пунктуацию. Знаки препинания остаются склеенными с токенами, поэтому в словаре будут встречаться одинаковые токены с разным окончанием, что может повлечь плачевные последствия. Поэтому будем пользоваться похожим на стандартный `str.split()` `word_tokenize()` из библиотеки `nltk`. Он отделяет токены от знаков препинания, но не удаляет их. "
      ]
    },
    {
      "cell_type": "code",
      "execution_count": 12,
      "metadata": {},
      "outputs": [
        {
          "data": {
            "text/plain": [
              "True"
            ]
          },
          "execution_count": 12,
          "metadata": {},
          "output_type": "execute_result"
        }
      ],
      "source": [
        "# Подготовка\n",
        "import nltk\n",
        "from nltk import word_tokenize\n",
        "nltk.download(\"punkt_tab\", quiet=True)"
      ]
    },
    {
      "cell_type": "code",
      "execution_count": 13,
      "metadata": {},
      "outputs": [
        {
          "data": {
            "text/plain": [
              "23410"
            ]
          },
          "execution_count": 13,
          "metadata": {},
          "output_type": "execute_result"
        }
      ],
      "source": [
        "from collections import Counter\n",
        "\n",
        "tokens = [word_tokenize(text) for text in train[\"OriginalTweet\"]]\n",
        "len(tokens)"
      ]
    },
    {
      "cell_type": "code",
      "execution_count": 14,
      "metadata": {},
      "outputs": [],
      "source": [
        "count = Counter([word.lower() for text in tokens for word in text])"
      ]
    },
    {
      "cell_type": "markdown",
      "metadata": {
        "id": "Pe0h2Jqkpnao"
      },
      "source": [
        "Какой размер словаря получился?"
      ]
    },
    {
      "cell_type": "code",
      "execution_count": 15,
      "metadata": {
        "id": "umyENA7EpokD"
      },
      "outputs": [
        {
          "data": {
            "text/plain": [
              "57256"
            ]
          },
          "execution_count": 15,
          "metadata": {},
          "output_type": "execute_result"
        }
      ],
      "source": [
        "raw_tokenizer_len = len(count)\n",
        "raw_tokenizer_len"
      ]
    },
    {
      "cell_type": "markdown",
      "metadata": {
        "id": "0d2G1Z-Qpqkd"
      },
      "source": [
        "Выведите 10 самых популярных токенов с количеством встреч каждого из них. Объясните, почему именно эти токены в топе."
      ]
    },
    {
      "cell_type": "code",
      "execution_count": 16,
      "metadata": {
        "id": "Impi32a_pssg"
      },
      "outputs": [
        {
          "data": {
            "text/plain": [
              "[('#', 42753),\n",
              " ('the', 26928),\n",
              " ('to', 23466),\n",
              " ('.', 23220),\n",
              " (',', 17556),\n",
              " (':', 16478),\n",
              " ('and', 14792),\n",
              " ('of', 13043),\n",
              " ('https', 12921),\n",
              " ('a', 11835)]"
            ]
          },
          "execution_count": 16,
          "metadata": {},
          "output_type": "execute_result"
        }
      ],
      "source": [
        "count.most_common(10)"
      ]
    },
    {
      "cell_type": "markdown",
      "metadata": {
        "id": "ZtuJCD0ApuFd"
      },
      "source": [
        "**Ответ:** заметим, что в десятке самых популярных токенов встречается много знаков пунктуации и стоп-слов (слов, которые не несут никакой смысловой нагрузки). Это достаточно очевидно, ведь в каждом осмысленном и грамотном предложении присутствуют знаки препинания, а также предлоги, союзы и т.д., суммарно по всем текстам их количество будет очень большим. "
      ]
    },
    {
      "cell_type": "markdown",
      "metadata": {
        "id": "T7DTQDkWsVYp"
      },
      "source": [
        "Удалите стоп-слова из словаря и выведите новый топ-10 токенов (и количество встреч) по популярности.  Что можно сказать  о нем?"
      ]
    },
    {
      "cell_type": "code",
      "execution_count": 17,
      "metadata": {
        "id": "8csSAdgTsnFx"
      },
      "outputs": [
        {
          "data": {
            "text/plain": [
              "True"
            ]
          },
          "execution_count": 17,
          "metadata": {},
          "output_type": "execute_result"
        }
      ],
      "source": [
        "# Подготовка\n",
        "from nltk.corpus import stopwords\n",
        "nltk.download(\"stopwords\", quiet=True)"
      ]
    },
    {
      "cell_type": "code",
      "execution_count": 18,
      "metadata": {},
      "outputs": [
        {
          "data": {
            "text/plain": [
              "57107"
            ]
          },
          "execution_count": 18,
          "metadata": {},
          "output_type": "execute_result"
        }
      ],
      "source": [
        "for stopword in stopwords.words(\"english\"):\n",
        "    if stopword in count:\n",
        "        del count[stopword]\n",
        "len(count)"
      ]
    },
    {
      "cell_type": "code",
      "execution_count": 19,
      "metadata": {},
      "outputs": [
        {
          "data": {
            "text/plain": [
              "[('#', 42753),\n",
              " ('.', 23220),\n",
              " (',', 17556),\n",
              " (':', 16478),\n",
              " ('https', 12921),\n",
              " ('?', 11033),\n",
              " ('coronavirus', 9965),\n",
              " ('@', 9959),\n",
              " ('!', 4700),\n",
              " ('prices', 4618)]"
            ]
          },
          "execution_count": 19,
          "metadata": {},
          "output_type": "execute_result"
        }
      ],
      "source": [
        "count.most_common(10)"
      ]
    },
    {
      "cell_type": "markdown",
      "metadata": {
        "id": "LZH0x2Lzs-Dh"
      },
      "source": [
        "**Ответ:** Итак, получаем уже более осмысленный топ-10 токенов, в котором среди множества знаков препинания можно найти и слова, которые несут смысловую нагрузку. Очевидно, что эти слова являются **ключевыми** (соответствующими тематике твитов). Среди них *coronavirus* и *prices*."
      ]
    },
    {
      "cell_type": "markdown",
      "metadata": {
        "id": "TKSGRyI-uor0"
      },
      "source": [
        "Также выведите 20 самых непопулярных слов (если самых непопулярных слов больше, выведите любые 20 из них) Почему эти токены непопулярны, требуется ли как-то дополнительно работать с ними?"
      ]
    },
    {
      "cell_type": "code",
      "execution_count": 20,
      "metadata": {
        "id": "moArbwfvun9t"
      },
      "outputs": [
        {
          "data": {
            "text/plain": [
              "[('//t.co/lw1r0rm7xs', 1),\n",
              " ('//t.co/5cbliqzx7l', 1),\n",
              " ('now.when', 1),\n",
              " ('milion', 1),\n",
              " ('skellig', 1),\n",
              " ('skelligsix18', 1),\n",
              " ('skelligcoast2kms', 1),\n",
              " ('southkerry', 1),\n",
              " ('//t.co/zjcl195vqs', 1),\n",
              " ('srinivasiyc', 1),\n",
              " ('//t.co/iaek4fwsgz', 1),\n",
              " ('premiership', 1),\n",
              " ('non-playing', 1),\n",
              " ('subsidise', 1),\n",
              " ('playersã\\x82â\\x92', 1),\n",
              " ('renewing', 1),\n",
              " ('flew', 1),\n",
              " ('torontopearson', 1),\n",
              " ('680news', 1),\n",
              " ('//t.co/7j2y3rsld9', 1)]"
            ]
          },
          "execution_count": 20,
          "metadata": {},
          "output_type": "execute_result"
        }
      ],
      "source": [
        "count.most_common()[-20:]"
      ]
    },
    {
      "cell_type": "markdown",
      "metadata": {
        "id": "uRp3J1gQunlR"
      },
      "source": [
        "**Ответ:** среди 20 самых непопулярных слов можно найти много url-адресов. Каждый из них имеет домен `t.co` — домен сокрощателя ссылок, который используется в твитах. В адресе указывается сокрощенный адрес, который является уникальным для каждого твита, пользователя и т.д. Возможно, что некоторые из этих адресов ведут на другие твиты, которые являются предметом обсуждения текущего твита или ответом на него. Самый простой выход — удалить все эти токены из словаря, так как они не несут никакой смысловой нагрузки, интересное решение — рекурсивно обойти все ссылки и учитывать найденные в них токены. Понятно, что сейчас мы таким заниматься не будем, но звучит интересно. \n",
        "\n",
        "Также встречаются и странные \"склеенные\" слова. Скорее всего, они получились из хэштегов или просто тэгов после отбрасывания знаков препинания при `word_tokenize()`. В принципе хэштэги широко используются в твитах, они используются многими пользователями, чтобы объединить твиты по определенной теме, поэтому их необходимо учитывать. \n",
        "\n"
      ]
    },
    {
      "cell_type": "markdown",
      "metadata": {
        "id": "wx9LQOSPzvjV"
      },
      "source": [
        "Теперь воспользуемся токенайзером получше - TweetTokenizer из библиотеки nltk. Примените его и посмотрите на топ-10 популярных слов. Чем он отличается от топа, который получался раньше? Почему?"
      ]
    },
    {
      "cell_type": "code",
      "execution_count": 21,
      "metadata": {
        "id": "2G1UkyVxzvFY"
      },
      "outputs": [],
      "source": [
        "from nltk.tokenize import TweetTokenizer\n",
        "\n",
        "# preseve_case=False - не учитывать регистр\n",
        "# там еще есть несколько интересных параметров, хочется тоже потом попробовать\n",
        "# https://www.nltk.org/_modules/nltk/tokenize/casual.html#TweetTokenizer.__init__\n",
        "tw = TweetTokenizer(preserve_case=False)"
      ]
    },
    {
      "cell_type": "code",
      "execution_count": 22,
      "metadata": {},
      "outputs": [
        {
          "data": {
            "text/plain": [
              "58350"
            ]
          },
          "execution_count": 22,
          "metadata": {},
          "output_type": "execute_result"
        }
      ],
      "source": [
        "count = Counter([word for text in train[\"OriginalTweet\"] for word in tw.tokenize(text)])\n",
        "len(count)"
      ]
    },
    {
      "cell_type": "code",
      "execution_count": 23,
      "metadata": {},
      "outputs": [
        {
          "data": {
            "text/plain": [
              "[('the', 26993),\n",
              " ('.', 24118),\n",
              " ('to', 23478),\n",
              " (',', 17571),\n",
              " ('and', 14825),\n",
              " ('of', 13044),\n",
              " ('a', 11891),\n",
              " ('in', 11348),\n",
              " ('?', 9524),\n",
              " ('#coronavirus', 8808)]"
            ]
          },
          "execution_count": 23,
          "metadata": {},
          "output_type": "execute_result"
        }
      ],
      "source": [
        "count.most_common(10)"
      ]
    },
    {
      "cell_type": "markdown",
      "metadata": {
        "id": "50eVUnJN1Zxl"
      },
      "source": [
        "**Ответ:** до сих пор лидируют знаки препинания и стоп-слова, однако из списка пропал `#`, так как `TweetTokenizer` оставляет знак решетки перед соответствующим хэштегом. По той же причине пропали `@` и `https`. Освободилось место для самого популярного среди твитов про коронавируса хэштега `#coronavirus`."
      ]
    },
    {
      "cell_type": "markdown",
      "metadata": {
        "id": "1gqQgiMs11bs"
      },
      "source": [
        "Удалите из словаря стоп-слова и пунктуацию, посмотрите на новый топ-10 слов с количеством встреч, есть ли теперь в нем что-то не похожее на слова?"
      ]
    },
    {
      "cell_type": "code",
      "execution_count": 24,
      "metadata": {
        "id": "0yHWdFrp0Mup"
      },
      "outputs": [
        {
          "data": {
            "text/plain": [
              "58129"
            ]
          },
          "execution_count": 24,
          "metadata": {},
          "output_type": "execute_result"
        }
      ],
      "source": [
        "noises = stopwords.words(\"english\") + list(punctuation)\n",
        "for noise in noises:\n",
        "    if noise in count:\n",
        "        del count[noise]\n",
        "len(count)"
      ]
    },
    {
      "cell_type": "code",
      "execution_count": 25,
      "metadata": {},
      "outputs": [
        {
          "data": {
            "text/plain": [
              "[('#coronavirus', 8808),\n",
              " ('â', 7415),\n",
              " ('\\x82', 7311),\n",
              " ('19', 7167),\n",
              " ('covid', 6253),\n",
              " ('prices', 4601),\n",
              " ('\\x92', 4372),\n",
              " ('food', 4367),\n",
              " ('store', 3877),\n",
              " ('supermarket', 3805)]"
            ]
          },
          "execution_count": 25,
          "metadata": {},
          "output_type": "execute_result"
        }
      ],
      "source": [
        "count.most_common(10)"
      ]
    },
    {
      "cell_type": "markdown",
      "metadata": {
        "id": "8ZJqXELP_Yxy"
      },
      "source": [
        "**Ответ:** да, в топ-10 встречаются токены, обозначающие неотображаемые символы, такие как `\\x82` и `\\x82`."
      ]
    },
    {
      "cell_type": "markdown",
      "metadata": {
        "id": "rzXjMsSB_kXB"
      },
      "source": [
        "Скорее всего в некоторых топах были неотображаемые символы или отдельные буквы не латинского алфавита. Уберем их: удалите из словаря токены из одного символа, позиция которого в таблице Unicode 128 и более (`ord(x) >= 128`)\n",
        "\n",
        "Выведите топ-10 самых популярных и топ-20 непопулярных слов. Чем полученные топы отличаются от итоговых топов, полученных при использовании токенизации по пробелам? Что теперь лучше, а что хуже?"
      ]
    },
    {
      "cell_type": "code",
      "execution_count": 26,
      "metadata": {
        "id": "1695hlkS_1-J"
      },
      "outputs": [
        {
          "data": {
            "text/plain": [
              "58089"
            ]
          },
          "execution_count": 26,
          "metadata": {},
          "output_type": "execute_result"
        }
      ],
      "source": [
        "for ordr in range(128, 256):\n",
        "    if chr(ordr) in count:\n",
        "        del count[chr(ordr)]\n",
        "len(count)"
      ]
    },
    {
      "cell_type": "code",
      "execution_count": 27,
      "metadata": {},
      "outputs": [
        {
          "data": {
            "text/plain": [
              "[('#coronavirus', 8808),\n",
              " ('19', 7167),\n",
              " ('covid', 6253),\n",
              " ('prices', 4601),\n",
              " ('food', 4367),\n",
              " ('store', 3877),\n",
              " ('supermarket', 3805),\n",
              " ('grocery', 3523),\n",
              " ('people', 3463),\n",
              " ('#covid19', 2589)]"
            ]
          },
          "execution_count": 27,
          "metadata": {},
          "output_type": "execute_result"
        }
      ],
      "source": [
        "count.most_common(10)"
      ]
    },
    {
      "cell_type": "code",
      "execution_count": 28,
      "metadata": {},
      "outputs": [
        {
          "data": {
            "text/plain": [
              "[('https://t.co/LW1r0Rm7XS', 1),\n",
              " ('https://t.co/5cBLIqZX7L', 1),\n",
              " ('now.when', 1),\n",
              " ('milion', 1),\n",
              " ('skellig', 1),\n",
              " ('@skelligsix18', 1),\n",
              " ('#skelligcoast2kms', 1),\n",
              " ('#southkerry', 1),\n",
              " ('https://t.co/zJcL195VQS', 1),\n",
              " ('@srinivasiyc', 1),\n",
              " ('https://t.co/IAEK4fWsgz', 1),\n",
              " ('premiership', 1),\n",
              " ('non-playing', 1),\n",
              " ('subsidise', 1),\n",
              " ('playersã', 1),\n",
              " ('renewing', 1),\n",
              " ('flew', 1),\n",
              " ('@torontopearson', 1),\n",
              " ('@680news', 1),\n",
              " ('https://t.co/7j2Y3rSld9', 1)]"
            ]
          },
          "execution_count": 28,
          "metadata": {},
          "output_type": "execute_result"
        }
      ],
      "source": [
        "count.most_common()[-20:]"
      ]
    },
    {
      "cell_type": "markdown",
      "metadata": {
        "id": "KzjHAKIlDvc6"
      },
      "source": [
        "**Ответ:** мы не проверяли топ-10 для токенизации по пробелам с удалением пунктуации (остановились только на стоп-словах), но можно детально сравнить топ-20 наименее популярных токенов с разными токенизациями. `TweetTokenizer` учитывает специфику твитов, оставляя необходимые для понимания символы, такие как `#` и `@`, сохраняя валидные ссылки, что нельзя сказать о токенизации по пробелам."
      ]
    },
    {
      "cell_type": "markdown",
      "metadata": {
        "id": "EcDf9_6HB2zm"
      },
      "source": [
        "Выведите топ-10 популярных хештегов (токены, первые символы которых - #) с количеством встреч. Что можно сказать о них?"
      ]
    },
    {
      "cell_type": "code",
      "execution_count": 29,
      "metadata": {
        "id": "zk4fygCUBw3l"
      },
      "outputs": [
        {
          "data": {
            "text/plain": [
              "[('#coronavirus', 8808),\n",
              " ('#covid19', 2589),\n",
              " ('#covid_19', 1734),\n",
              " ('#covid2019', 946),\n",
              " ('#toiletpaper', 744),\n",
              " ('#covid', 641),\n",
              " ('#socialdistancing', 465),\n",
              " ('#coronacrisis', 448),\n",
              " ('#pandemic', 257),\n",
              " ('#coronaviruspandemic', 249)]"
            ]
          },
          "execution_count": 29,
          "metadata": {},
          "output_type": "execute_result"
        }
      ],
      "source": [
        "hashtags_count = Counter({key: value for key, value in count.items() if key.startswith(\"#\")})\n",
        "hashtags_count.most_common(10)"
      ]
    },
    {
      "cell_type": "markdown",
      "metadata": {
        "id": "-6NeNWBkDxM7"
      },
      "source": [
        "**Ответ:** ранее уже было замечено, что тематические (про коронавирус) хэштеги, такие как `#coronavirus`, `#covid19` и т.п. будут встречаться чаще всего. Также в топ-10 попал хэштэг `toiletpaper`, который стал мемом в начале пандемии, когда люди начали скупать туалетную бумагу."
      ]
    },
    {
      "cell_type": "markdown",
      "metadata": {
        "id": "LLYBg7caD5GA"
      },
      "source": [
        "То же самое проделайте для ссылок на сайт https://t.co Сравнима ли популярность ссылок с популярностью хештегов? Будет ли информация о ссылке на конкретную страницу полезна?"
      ]
    },
    {
      "cell_type": "code",
      "execution_count": 30,
      "metadata": {
        "id": "MXbm1oeaCK9S"
      },
      "outputs": [
        {
          "data": {
            "text/plain": [
              "[('https://t.co/oXA7SWtoNd', 5),\n",
              " ('https://t.co/gP3EusapL8', 4),\n",
              " ('https://t.co/DefTruI1PfÃ\\x82Â', 3),\n",
              " ('https://t.co/WrLHYzIzAA', 3),\n",
              " ('https://t.co/kuwIpF1KQW', 3),\n",
              " ('https://t.co/zjNRx6dKKN', 3),\n",
              " ('https://t.co/3GBBDpdjat', 3),\n",
              " ('https://t.co/e2ZNXajPre', 3),\n",
              " ('https://t.co/CATKegAyOY', 3),\n",
              " ('https://t.co/G63RP042HO', 3)]"
            ]
          },
          "execution_count": 30,
          "metadata": {},
          "output_type": "execute_result"
        }
      ],
      "source": [
        "tcolinks_count = Counter({key: value for key, value in count.items() if key.startswith(\"https://t.co\")})\n",
        "tcolinks_count.most_common(10)"
      ]
    },
    {
      "cell_type": "markdown",
      "metadata": {
        "id": "at6lRYZ8A07N"
      },
      "source": [
        "**Ответ:** ссылки на сайт `t.co` встречаются реже, чем хэштеги. Это связано с тем, что ссылки на сайт `t.co` являются сокращенными ссылками, которые ведут на другие страницы. В то время как хэштеги используются для объединения твитов по определенной теме. Также, скорее всего, несколько `t.co` ссылок могут вести на одну и ту же страницу, что делает их менее информативными."
      ]
    },
    {
      "cell_type": "markdown",
      "metadata": {
        "id": "IOGdUU1kBU1D"
      },
      "source": [
        "Используем опыт предыдущих экспериментов и напишем собственный токенайзер, улучшив TweetTokenizer. Функция tokenize должна:\n",
        "\n",
        "\n",
        "\n",
        "*   Привести текст в нижний регистр\n",
        "*   Применить TweetTokenizer для  выделения токенов\n",
        "*   Удалить стоп-слова, пунктуацию, токены из одного символа с позицией в таблице Unicode 128 и более,  ссылки на t.co\n",
        "\n"
      ]
    },
    {
      "cell_type": "code",
      "execution_count": 31,
      "metadata": {
        "id": "ctEsB6xkFrrK"
      },
      "outputs": [],
      "source": [
        "def custom_tokenizer(text):\n",
        "  # не учитываем регистр\n",
        "  tw = TweetTokenizer(preserve_case=False)\n",
        "\n",
        "  tw_tokens = tw.tokenize(text)\n",
        "\n",
        "  def check(word):\n",
        "    if len(word) == 1 and ord(word) > 127:\n",
        "      return False\n",
        "    if word in stopwords.words(\"english\"):\n",
        "      return False\n",
        "    if word in punctuation:\n",
        "      return False\n",
        "    if word.startswith(\"https://t.co\"):\n",
        "      return False\n",
        "    return True\n",
        "\n",
        "  return list(filter(check, tw_tokens))\n"
      ]
    },
    {
      "cell_type": "code",
      "execution_count": 32,
      "metadata": {},
      "outputs": [
        {
          "data": {
            "text/plain": [
              "['sample', 'text', '@sample_text', '#sampletext']"
            ]
          },
          "execution_count": 32,
          "metadata": {},
          "output_type": "execute_result"
        }
      ],
      "source": [
        "custom_tokenizer('This is sample text!!!! @Sample_text I, \\x92\\x92 https://t.co/sample  #sampletext')"
      ]
    },
    {
      "cell_type": "markdown",
      "metadata": {
        "id": "wURVABmXHk97"
      },
      "source": [
        "## Задание 3 Векторизация текстов (2 балла)"
      ]
    },
    {
      "cell_type": "markdown",
      "metadata": {
        "id": "H44iXkoHIQfN"
      },
      "source": [
        "Обучите CountVectorizer с использованием custom_tokenizer в качестве токенайзера. Как размер полученного словаря соотносится с размером изначального словаря из начала задания 2?"
      ]
    },
    {
      "cell_type": "code",
      "execution_count": 33,
      "metadata": {
        "colab": {
          "base_uri": "https://localhost:8080/"
        },
        "id": "gHn_limQl3BI",
        "outputId": "8e9c1826-319f-4376-f06e-c30c2eb82648"
      },
      "outputs": [
        {
          "name": "stderr",
          "output_type": "stream",
          "text": [
            "/opt/homebrew/anaconda3/lib/python3.12/site-packages/sklearn/feature_extraction/text.py:521: UserWarning: The parameter 'token_pattern' will not be used since 'tokenizer' is not None'\n",
            "  warnings.warn(\n"
          ]
        },
        {
          "name": "stdout",
          "output_type": "stream",
          "text": [
            "45290\n"
          ]
        }
      ],
      "source": [
        "from sklearn.feature_extraction.text import CountVectorizer\n",
        "\n",
        "cv = CountVectorizer(tokenizer=custom_tokenizer)\n",
        "cv.fit(train[\"OriginalTweet\"])\n",
        "\n",
        "print(len(cv.vocabulary_))"
      ]
    },
    {
      "cell_type": "code",
      "execution_count": 34,
      "metadata": {},
      "outputs": [
        {
          "data": {
            "text/plain": [
              "1.2642084345330096"
            ]
          },
          "execution_count": 34,
          "metadata": {},
          "output_type": "execute_result"
        }
      ],
      "source": [
        "raw_tokenizer_len / len(cv.vocabulary_)"
      ]
    },
    {
      "cell_type": "markdown",
      "metadata": {
        "id": "gsfmaSGoItUm"
      },
      "source": [
        "**Ответ:** размер словаря уменьшился примерно в 1.25 раза. Это связано с тем, что в словаре остались только токены, которые несут смысловую нагрузку."
      ]
    },
    {
      "cell_type": "markdown",
      "metadata": {
        "id": "lm6UHNmqKZT0"
      },
      "source": [
        "Посмотрим на какой-нибудь конкретный твитт:"
      ]
    },
    {
      "cell_type": "code",
      "execution_count": 35,
      "metadata": {
        "id": "aJVjjfqOJh8m"
      },
      "outputs": [
        {
          "data": {
            "text/plain": [
              "('Nice one @SkyNews lets not panic but show ppl in france queueing for food!!! #CoronavirusOutbreak #COVID2019 brainless!! Ffs',\n",
              " 0)"
            ]
          },
          "execution_count": 35,
          "metadata": {},
          "output_type": "execute_result"
        }
      ],
      "source": [
        "ind = 9023\n",
        "train.iloc[ind]['OriginalTweet'], train.iloc[ind]['Sentiment']"
      ]
    },
    {
      "cell_type": "markdown",
      "metadata": {
        "id": "PBMIHBI5KdaS"
      },
      "source": [
        "Автор твитта не доволен ситуацией с едой во Франции и текст имеет резко негативную окраску.\n",
        "\n",
        "Примените обученный CountVectorizer для векторизации данного текста, и попытайтесь определить самый важный токен и самый неважный токен (токен, компонента которого в векторе максимальна/минимальна, без учета 0). Хорошо ли они определились, почему?"
      ]
    },
    {
      "cell_type": "code",
      "execution_count": 36,
      "metadata": {
        "id": "7NcAllaEKsJj"
      },
      "outputs": [
        {
          "name": "stdout",
          "output_type": "stream",
          "text": [
            "Best #coronavirusoutbreak\n",
            "vocabulary[best] = 1833\n"
          ]
        }
      ],
      "source": [
        "features = cv.get_feature_names_out()\n",
        "tweetX = cv.transform([train.iloc[ind]['OriginalTweet']])\n",
        "\n",
        "best = np.argmax(tweetX)\n",
        "print(\"Best\", features[best])\n",
        "print(\"vocabulary[best] =\", cv.vocabulary_[features[best]])"
      ]
    },
    {
      "cell_type": "code",
      "execution_count": 37,
      "metadata": {},
      "outputs": [
        {
          "name": "stdout",
          "output_type": "stream",
          "text": [
            "Worst #coronavirusoutbreak\n",
            "vocabulary[worst] = 1833\n"
          ]
        }
      ],
      "source": [
        "without_zero_tweetX = tweetX[(tweetX > 0).toarray()]\n",
        "without_zero_features = features[(tweetX > 0).toarray()[0]]\n",
        "\n",
        "worst = np.argmin(without_zero_tweetX)\n",
        "print(\"Worst\", without_zero_features[worst])\n",
        "print(\"vocabulary[worst] =\", cv.vocabulary_[without_zero_features[worst]])"
      ]
    },
    {
      "cell_type": "code",
      "execution_count": 38,
      "metadata": {},
      "outputs": [
        {
          "data": {
            "text/plain": [
              "matrix([[1, 1, 1, 1, 1, 1, 1, 1, 1, 1, 1, 1, 1, 1]])"
            ]
          },
          "execution_count": 38,
          "metadata": {},
          "output_type": "execute_result"
        }
      ],
      "source": [
        "without_zero_tweetX"
      ]
    },
    {
      "cell_type": "markdown",
      "metadata": {
        "id": "TpEsl1k_NF4T"
      },
      "source": [
        "**Ответ:** как можно заметить самый важный токен совпадает с самым незначительным токеном. Так происходит потому, что в тексте каждое слово встречается только один раз, а векторизация `CountVectorizer` учитывает лишь количество встреч токена в тексте. Выше показан пример того, как выглядят ненулевые значения в векторе. Именно поэтому самый важный и неважный токены здесь определяются плохо. Да и в целом хэштэг `#coronavirusoutbreak` никак не поможет понять, что твит негативный."
      ]
    },
    {
      "cell_type": "markdown",
      "metadata": {
        "id": "w4DsEQpLO3J6"
      },
      "source": [
        "Теперь примените TfidfVectorizer и  определите самый важный/неважный токены. Хорошо ли определились, почему?"
      ]
    },
    {
      "cell_type": "code",
      "execution_count": 39,
      "metadata": {
        "id": "uSNzdK3ENGB3"
      },
      "outputs": [
        {
          "name": "stdout",
          "output_type": "stream",
          "text": [
            "45290\n"
          ]
        }
      ],
      "source": [
        "from sklearn.feature_extraction.text import TfidfVectorizer\n",
        "tfidf = TfidfVectorizer(tokenizer=custom_tokenizer)\n",
        "tfidf.fit(train[\"OriginalTweet\"])\n",
        "print(len(tfidf.vocabulary_))"
      ]
    },
    {
      "cell_type": "code",
      "execution_count": 40,
      "metadata": {},
      "outputs": [
        {
          "name": "stdout",
          "output_type": "stream",
          "text": [
            "Best brainless\n",
            "vocabulary[best] = 20553\n"
          ]
        }
      ],
      "source": [
        "features = tfidf.get_feature_names_out()\n",
        "tweetX = tfidf.transform([train.iloc[ind]['OriginalTweet']])\n",
        "best = np.argmax(tweetX)\n",
        "print(\"Best\", features[best])\n",
        "print(\"vocabulary[best] =\", tfidf.vocabulary_[features[best]])"
      ]
    },
    {
      "cell_type": "code",
      "execution_count": 41,
      "metadata": {},
      "outputs": [
        {
          "name": "stdout",
          "output_type": "stream",
          "text": [
            "Worst food\n",
            "vocabulary[worst] = 27042\n"
          ]
        }
      ],
      "source": [
        "without_zero_tweetX = tweetX[(tweetX > 0).toarray()]\n",
        "without_zero_features = features[(tweetX > 0).toarray()[0]]\n",
        "\n",
        "worst = np.argmin(without_zero_tweetX)\n",
        "print(\"Worst\", without_zero_features[worst])\n",
        "print(\"vocabulary[worst] =\", cv.vocabulary_[without_zero_features[worst]])"
      ]
    },
    {
      "cell_type": "markdown",
      "metadata": {
        "id": "NYao_UhqQADm"
      },
      "source": [
        "**Ответ:** Гораздо лучше!!! Исходя из логики: токен `brainless` явно указывает на негативный твит, можно сказать, что он является самым важным. А вот токен `food` несет гораздо меньше информации о твите, так как он не указывает на его эмоциональную окраску. Возвращаясь к TF-IDF: слово `brainless` встречается в данном тексте чаще, чем в остальных, поэтому оно важнее для этого текста (в мерках TF-IDF). А вот слово `food` встречается в этом тексте так же, как и в остальных, поэтому оно менее важно для этого текста."
      ]
    },
    {
      "cell_type": "markdown",
      "metadata": {
        "id": "LGRJPqfWSesQ"
      },
      "source": [
        "Найдите какой-нибудь положительно окрашенный твитт, где TfidfVectorizer хорошо (полезно для определения окраски) выделяет важный токен, поясните пример.\n",
        "\n",
        "*Подсказка:* явно положительные твитты можно искать при помощи положительных слов (good, great, amazing и т. д.)"
      ]
    },
    {
      "cell_type": "code",
      "execution_count": 42,
      "metadata": {
        "colab": {
          "base_uri": "https://localhost:8080/",
          "height": 53
        },
        "id": "bRbQ2CHiSuJI",
        "outputId": "c4b34a7d-1076-4e1e-ad5c-9466fd2097c2"
      },
      "outputs": [
        {
          "data": {
            "application/vnd.microsoft.datawrangler.viewer.v0+json": {
              "columns": [
                {
                  "name": "index",
                  "rawType": "int64",
                  "type": "integer"
                },
                {
                  "name": "UserName",
                  "rawType": "int64",
                  "type": "integer"
                },
                {
                  "name": "ScreenName",
                  "rawType": "int64",
                  "type": "integer"
                },
                {
                  "name": "Location",
                  "rawType": "object",
                  "type": "string"
                },
                {
                  "name": "TweetAt",
                  "rawType": "object",
                  "type": "string"
                },
                {
                  "name": "OriginalTweet",
                  "rawType": "object",
                  "type": "string"
                },
                {
                  "name": "Sentiment",
                  "rawType": "int64",
                  "type": "integer"
                }
              ],
              "conversionMethod": "pd.DataFrame",
              "ref": "113fd9f6-5a67-40bc-b040-04c3a1d77e00",
              "rows": [
                [
                  "4583",
                  "9362",
                  "54314",
                  "Moulton, England",
                  "19-03-2020",
                  "Hearing so many stories of NHS heroes Teachers have been equally amazing Having briefly walked into a supermarket today and walked out again there are some absolute superstar supermarket workers out there too",
                  "1"
                ],
                [
                  "8221",
                  "13787",
                  "58739",
                  "Unknown",
                  "20-03-2020",
                  "Let s just take a minute to say THANK YOU also to the amazing postal workers So many real people behind a click of online shopping and getting cards delivered Thank   you   19",
                  "1"
                ],
                [
                  "3183",
                  "7654",
                  "52606",
                  "London, England",
                  "18-03-2020",
                  "Back at the \"Frontline\"\r\r\nA massive shout out to all the NHS staff pharmacy staff shop and supermarket workers road sweepers etc who are braving the Frontline and are doing an amazing job day in day out\r\r\n#coronavirus #covid19UK https://t.co/I0pVlh5bvx",
                  "1"
                ],
                [
                  "24347",
                  "33577",
                  "78529",
                  "Unknown",
                  "05-04-2020",
                  "Massive thanks to @waitrose for my delivery of my online food shopping, you two delivery drivers were amazing &amp; excellent customer service skills, not sure why I stopped having you delivery my shopping, I will be having you deliver every week once I can once #coronavirus is over",
                  "1"
                ],
                [
                  "3281",
                  "7772",
                  "52724",
                  "Nairobi, Kenya",
                  "18-03-2020",
                  "Crisp clean fresh air perfect ambience Covid 19 measures in place and amazing food kama kawaida Don t panic rest easy with us",
                  "1"
                ],
                [
                  "8851",
                  "14552",
                  "59504",
                  "Unknown",
                  "20-03-2020",
                  "With everything going on with 19 shopping online is the best way to stay safe while still getting what you need Check out this amazing article on how to choose your foundation online  ",
                  "1"
                ],
                [
                  "21299",
                  "29778",
                  "74730",
                  "Morrisville, NC",
                  "01-04-2020",
                  "We've got newly updated info about online shopping, food delivery, at-home entertainment and more being provided by our amazing tenants! Check it out at the link below!\r\r\n-\r\r\nhttps://t.co/Zp5FNrcPLy #ParkWestVillage #BetterTogether https://t.co/NP318A2Gkn",
                  "1"
                ],
                [
                  "11808",
                  "18128",
                  "63080",
                  "Brighton, England",
                  "21-03-2020",
                  "#CoronaCrisis #cornavirusuk #HelpEachOther can I just say a massive amazing thank you to my little local shop who has bread, bacon, toilet roll, crisps, milk, eggs etc. Limiting everything to 1 unit per item. Not hiked up prices either. Thank you local shop. Xx",
                  "1"
                ],
                [
                  "11674",
                  "17953",
                  "62905",
                  "Essex",
                  "21-03-2020",
                  "Thank you so much @waitrose you have been amazing! I did an online order for my 72 year old dad who has diabetes &amp; because you brought most of our shopping, he doesnÃÂt have to go out! #thankyou for taking care of us #CoronaCrisisuk #coronavirus #StaySafeStayHome #StayAtHome https://t.co/gLtENDpmk6",
                  "1"
                ],
                [
                  "10468",
                  "16499",
                  "61451",
                  "Unknown",
                  "21-03-2020",
                  "This Covid-19 is really an amazing ÃÂselectiveÃÂ Virus, you can catch it everywhere except at the grocery store....Things that make you say hmmm.... #covid19 #coronavirus #CoronaCrisis",
                  "1"
                ],
                [
                  "3870",
                  "8497",
                  "53449",
                  "Unknown",
                  "18-03-2020",
                  "Despite complaining about not getting through  the helpline, @Instacart shopping at @LoblawsON while I self-isolate has been amazing. Debora chatted w/me online throughout &amp; sent photos. This service can be a lifeline for many right now. #COVID19 #coronavirus #TechForGood",
                  "1"
                ],
                [
                  "4884",
                  "9729",
                  "54681",
                  "London, England",
                  "19-03-2020",
                  "Here at Patchwork we d like to thank those working on the front line of Covid 19 from our amazing NHS staff to cleaners supermarket workers delivery drivers and so many more These are our real superheroes",
                  "1"
                ],
                [
                  "31956",
                  "43106",
                  "88058",
                  "Oconto Falls, WI",
                  "12-04-2020",
                  "Got this sticker with my @ZaturalHemp order of amazing CBD Hand Sanitizer &amp; thought it was very fitting. Loved Zatural &amp; all of their products prior to #COVID__19 &amp; happy to see they are now making #handsanitizer !#SomeGoodNews #coronavirus #SocialDistancing #family #CBD https://t.co/jn2SNIJal5",
                  "1"
                ],
                [
                  "8001",
                  "13523",
                  "58475",
                  "United Kingdom",
                  "20-03-2020",
                  "Today, we'd love to say a big thank you to all of the supermarket heroes who are working so hard to keep our supply chain running and stock on the shelves - you're all amazing!\r\r\n\r\r\n#CordantLovesPeople #COVID19 #Coronavirus #Gratitude #FeedbackFriday https://t.co/iOJqzEldK1",
                  "1"
                ],
                [
                  "23318",
                  "32289",
                  "77241",
                  "Dublin City, Ireland",
                  "04-04-2020",
                  "Healthcare workers are amazing during this #COVID2019 pandemic but please let's not forget how amazing our Supermarket workers, chemists workers, Binmen, delivery drivers and distribution works playing a major part in keeping life going. But Healthcare is gettin all the praise",
                  "1"
                ],
                [
                  "28505",
                  "38773",
                  "83725",
                  "Truro, Nova Scotia",
                  "08-04-2020",
                  "We're officially up &amp; running with production of isolation gowns here in @TownofTruro, NS. It's only Day 1 of this necessary retooling but we want to take the time to thank ALL of the amazing people helping to make this happen!\r\r\n???\r\r\n#COVID19 #TogetherWeCan #TogetherFromApart https://t.co/QtT0c7SMpa",
                  "1"
                ],
                [
                  "29080",
                  "39489",
                  "84441",
                  "Calcoed, Wales",
                  "09-04-2020",
                  "Please appreciate your supermarket delivery drivers, as well as all the other amazing people who are helping us self isolate and stay safe #thankyou #deliverydrivers #StayHomeSaveLives #heroes",
                  "1"
                ],
                [
                  "2734",
                  "7106",
                  "52058",
                  "UK",
                  "18-03-2020",
                  "Crude Oil is now worth 2001 prices, $20 a barrel, amazing  ? #coronavirus https://t.co/OjHZ19VTR5",
                  "1"
                ],
                [
                  "16543",
                  "23943",
                  "68895",
                  "Surat, Gujarat",
                  "24-03-2020",
                  "Day 3 of #quarantine and I'm playing amazon quiz. Grab the opportunity to win amazing prices from @amazonIN @amazon. Play indoor games and quiz, stay at home and stay healthy.\r\r\n#QuarantineActivities #CoronaCrisis #lockdown\r\r\n#QuizeTimeMorningsWithAmazon",
                  "1"
                ],
                [
                  "19919",
                  "28079",
                  "73031",
                  "Newbury, Berkshire, UK",
                  "26-03-2020",
                  "The amazing and have managed to get production of hand sanitizer up and running but they need help Please click below for details",
                  "1"
                ],
                [
                  "20175",
                  "28397",
                  "73349",
                  "Kampala, Uganda",
                  "26-03-2020",
                  "@DailyMonitor Xente is an amazing online shopping platform . You can literally find all you need from food to entertainment, from first aid to appliances, from luxury to even more and more exciting goodies @xente_app @xente4sellers . Dm me we add you &amp",
                  "1"
                ],
                [
                  "21120",
                  "29558",
                  "74510",
                  "Unknown",
                  "01-04-2020",
                  "Sending a virtual thanks round of applause to all the NHS Medical Staff Ambulance Services support workers supermarket workers and frontline staff that are doing such an amazing job You are all incredible  ",
                  "1"
                ],
                [
                  "7243",
                  "12595",
                  "57547",
                  "Unknown",
                  "20-03-2020",
                  "@TheLastLeg #IsItOk that this how I imagine it would be watching you all just before the end of the world...#coronavirus didnÃÂt come here to fuck spiders #StaySafeStayHome #StopHoarding and who has the amazing laugh?",
                  "1"
                ],
                [
                  "18840",
                  "26736",
                  "71688",
                  "Unknown",
                  "25-03-2020",
                  "From the supermarket teams to the head honchos The public service workers You guys are amazing and NZ appreciates your sacrifice of family time to go out there and keep us running   19 19NZ 2 2",
                  "1"
                ],
                [
                  "3567",
                  "8135",
                  "53087",
                  "Surrey, Sussex or Cornwall",
                  "18-03-2020",
                  "Spare a thought for our amazing doctors and nurses. But also for the likes of supermarket workers: Just been in @Tesco #Guildford and it was like Christmas Eve. The new delivery of loo rolls almost gone and long queues, but staff just getting on with their jobs. #coronavirus",
                  "1"
                ],
                [
                  "5158",
                  "10067",
                  "55019",
                  "South West, England",
                  "19-03-2020",
                  "Next series of supermarket sweep is going to be amazing! #covid19UK #coronavirus #lockdownuk",
                  "1"
                ],
                [
                  "4016",
                  "8683",
                  "53635",
                  "Co. Wicklow",
                  "18-03-2020",
                  "In the last 24 hours, 24,000 people have contacted the @HSELive responding to our call for help! Ireland, I love you! What an amazing national effort. Thank you so much. LetÃÂs keep at it. Go to https://t.co/FcV6QXIHGE and see if you can help #coronavirus #Covid19",
                  "1"
                ],
                [
                  "3854",
                  "8477",
                  "53429",
                  "Bakersfield, CA",
                  "18-03-2020",
                  "To all of the food service workers, medical professionals, delivery drivers, mail people, grocery store workers, and everyone else working through this COVID-19 pandemic:\r\r\n\r\r\nYou are all amazing - each and every one of you. Our world would stop without you.",
                  "1"
                ],
                [
                  "17122",
                  "24639",
                  "69591",
                  "London, England",
                  "25-03-2020",
                  "Coronavirus Hackney Foodbank  up against it  as emergency food packages run low Charity calls for more donations amid unprecedented demand and amazing community response",
                  "1"
                ],
                [
                  "8234",
                  "13803",
                  "58755",
                  "Unknown",
                  "20-03-2020",
                  "Do something amazing tomorrow, save lives by donating some of your hand gel to pensioners in your local supermarket so they don't have to risk contracting the coronavirus from contaminated shopping trolley and basket handles. Be sure to use a fully extended arm ?\r\r\n#CoronaCrisis",
                  "1"
                ],
                [
                  "25256",
                  "34736",
                  "79688",
                  "Singapore",
                  "06-04-2020",
                  "Some amazing holiday deals going for later in the year. Business and First Class prices slashed. Time to buy 4-5 holidays for between now and July next year, maybe more :P. #Covid_19 #singaporeair",
                  "1"
                ],
                [
                  "27711",
                  "37766",
                  "82718",
                  "South East, England",
                  "08-04-2020",
                  "Genuinely highlight of my week when the veg box arrives. This one is from \"peel and pips\" in Faversham (find them on Facebook\" . All the local producers are doing such an amazing job of keeping us nourished and healthy and out of the supermarket. Thank you\r\r\n#shoplocal\r\r\n#coronavirus https://t.co/VqMAMKLxYW",
                  "1"
                ],
                [
                  "20210",
                  "28443",
                  "73395",
                  "Melbourne",
                  "27-03-2020",
                  "Australian prices could fall by 20 That s if the pandemic triggers a deep   and if unemployment surges past 10 Those were some of the key points from my interview w who s got an amazing home office setup btw",
                  "1"
                ],
                [
                  "25263",
                  "34743",
                  "79695",
                  "2828 Dundas St W Toronto",
                  "06-04-2020",
                  "Sending a shipment ?? of our hand #sanitizer to our hometown &amp; the amazing healthcare workers at @grhospitalkw ???????????????????? #staysafe\r\r\n\r\r\n#wereinthistogether #flattenthecurve #socialdistancing #covid19 #coronavirus #washyourhandsÃÂ  #stayhomeÃÂ \r\r\n#the6ix #madeintoronto #madeincanada https://t.co/aCCYW4BSvQ",
                  "1"
                ],
                [
                  "32176",
                  "43376",
                  "88328",
                  "Los Angeles, CA",
                  "13-04-2020",
                  "For a limited time, you can help support the ACM Lifting Lives COVID-19 Response Fund while shopping online at Kendra Scott. Shop https://t.co/Y1gSSJ4cHk and use code GIVEBACK7175 at checkout to access this amazing opportunity - for more info visit https://t.co/BmSVxzL2QS. https://t.co/33bMZBJooV",
                  "1"
                ],
                [
                  "5491",
                  "10471",
                  "55423",
                  "California",
                  "19-03-2020",
                  "This morning I just want to thank  @IrvinePolice, @ocfirefighters, doctors, nurses, grocery store workers, teachers, janitors, and our amazing @City_of_Irvine staff.\r\r\n\r\r\nYou are the backbone of our society and we couldn't survive this without you.\r\r\n\r\r\nThank you! ??\r\r\n\r\r\n#Irvine #COVID2019",
                  "1"
                ],
                [
                  "18271",
                  "26029",
                  "70981",
                  "Abubakar koko road, Abuja Nige",
                  "25-03-2020",
                  "Why not stay home and be safe?\r\r\n\r\r\nWhile at it, don't forget to check https://t.co/gKx2MOHOJu for amazing properties you can invest in at reasonable and affordable prices.\r\r\n\r\r\n#COVID-19\r\r\n# coronavirus\r\r\n#stayathome\r\r\n#staysafe\r\r\n#socialdistaning\r\r\n#handwashing\r\r\n#leptonÃÂ https://t.co/73Wi0GxB01 https://t.co/mUsxj3so8e",
                  "1"
                ],
                [
                  "13355",
                  "20006",
                  "64958",
                  "Los Angeles, CA",
                  "22-03-2020",
                  "\"This particular edition of Writer's Lounge is a \"must read\"\r\r\nAn excellent essay from Jennifer Keller Puebla - an amazing video from Tokyo, exclusive to National Compass and a really fun video you will love, guaranteed!\" - Richard Cameron Editor-in-chief\r\r\n\r\r\nhttps://t.co/9nODotgqzq",
                  "1"
                ],
                [
                  "6982",
                  "12289",
                  "57241",
                  "Sagaon, Kalyan Dombivali",
                  "19-03-2020",
                  "Kritesh Enterprises has this amazing Mask at discount prices so hurry up n contact on 8097675586 for placing an order...\r\r\n#weareinthistogether #staysafe #covid_19 #endcoronavirustogether #kriteshenterprises @PariLodaya https://t.co/KNpI78T5oH",
                  "1"
                ],
                [
                  "4443",
                  "9203",
                  "54155",
                  "MurÃÂ§a, Portugal",
                  "19-03-2020",
                  "I remember thinking about this #coronavirus situation (#NoFood #NoTP #NoGas #Insanity) back in 2015 when @TheRealKRino dropped this amazing song!\r\r\n\r\r\nStay strong, pray strong, protect yourself &amp; your family #DoTheRightThing https://t.co/tBmnqRogYH #KRINO #hiphop #NewERA #StayStrong",
                  "1"
                ],
                [
                  "10004",
                  "15949",
                  "60901",
                  "San Jose, California, USA",
                  "21-03-2020",
                  "is the largest supermarket chain in the United States The workers there are doing an amazing job supporting our communities despite this awful health crisis The least Kroger can do is ensure its employees have paid sick leave",
                  "1"
                ],
                [
                  "18667",
                  "26521",
                  "71473",
                  "Unknown",
                  "25-03-2020",
                  "Please all give a shout out to our amazing supermarket staff. #CoronavirusLockdownUK @MC_HMGovernment @waitrose @sainsburys @Tesco @Morrisons @AldiUK #StayHome #NHS @piersmorgan @GaryLineker #COVID2019",
                  "1"
                ],
                [
                  "16721",
                  "24159",
                  "69111",
                  "CO Rockies... approx 7000 ft.",
                  "25-03-2020",
                  "Moonrise Distillery a family run operation in is now producing hand sanitizer and donating it to Rabun County s emergency responders Another amazing example of supporting our communities in the face of",
                  "1"
                ],
                [
                  "8882",
                  "14590",
                  "59542",
                  "Scotland.",
                  "20-03-2020",
                  "Rather than buying (and hoarding) that extra 24 pack of toilet paper, do this instead! Please give what you can to this amazing initiative, helping the most vulnerable. #coronavirus #BeKind #StopHoarding https://t.co/lPy7ekH8gx",
                  "1"
                ],
                [
                  "21882",
                  "30510",
                  "75462",
                  "Unknown",
                  "02-04-2020",
                  "Standing in a 40 minute queue for the supermarket and thinking isnÃÂt it amazing to be outside! Highlight of my day... #coronavirus #lockdown",
                  "1"
                ],
                [
                  "4360",
                  "9102",
                  "54054",
                  "Long Beach/Seal Beach/LA",
                  "18-03-2020",
                  "Okay so I know this  #californialockdown &amp; #COVID2019 is serious... but can I get an Amen for the lack of Traffic &amp; amazing Gas prices right now! ? #gasprices #LAtraffic",
                  "1"
                ],
                [
                  "19853",
                  "27993",
                  "72945",
                  "London, England",
                  "26-03-2020",
                  "I donÃÂt think weÃÂll ever hear anyone ever say he/she only works in a supermarket again. We all owe these amazing people so much gratitude, working so hard to keep us stocked up on supplies. #coronavirus #staysafe #ThankYou",
                  "1"
                ],
                [
                  "29904",
                  "40517",
                  "85469",
                  "India",
                  "09-04-2020",
                  "@Canon_India Coming together for a amazing cause. @Canon_india https://t.co/lyiCYgzkHQ",
                  "1"
                ],
                [
                  "24022",
                  "33161",
                  "78113",
                  "Conshohocken, PA",
                  "05-04-2020",
                  "If you are in the Wayne, PA area go to Seafood USA Today. Their selection and prices were amazing today. #PalmSunday #Covid_19 #ZeoliArmy",
                  "1"
                ],
                [
                  "10275",
                  "16267",
                  "61219",
                  "Unknown",
                  "21-03-2020",
                  "@BorisJohnson could you support and extend schemes like https://t.co/7tAmGyH59R to help NHS and other front line workers who arenÃÂt able to shop? Or priority delivery slots for online shopping? Front line staff are doing an amazing job, letÃÂs look after",
                  "1"
                ]
              ],
              "shape": {
                "columns": 6,
                "rows": 68
              }
            },
            "text/html": [
              "<div>\n",
              "<style scoped>\n",
              "    .dataframe tbody tr th:only-of-type {\n",
              "        vertical-align: middle;\n",
              "    }\n",
              "\n",
              "    .dataframe tbody tr th {\n",
              "        vertical-align: top;\n",
              "    }\n",
              "\n",
              "    .dataframe thead th {\n",
              "        text-align: right;\n",
              "    }\n",
              "</style>\n",
              "<table border=\"1\" class=\"dataframe\">\n",
              "  <thead>\n",
              "    <tr style=\"text-align: right;\">\n",
              "      <th></th>\n",
              "      <th>UserName</th>\n",
              "      <th>ScreenName</th>\n",
              "      <th>Location</th>\n",
              "      <th>TweetAt</th>\n",
              "      <th>OriginalTweet</th>\n",
              "      <th>Sentiment</th>\n",
              "    </tr>\n",
              "  </thead>\n",
              "  <tbody>\n",
              "    <tr>\n",
              "      <th>4583</th>\n",
              "      <td>9362</td>\n",
              "      <td>54314</td>\n",
              "      <td>Moulton, England</td>\n",
              "      <td>19-03-2020</td>\n",
              "      <td>Hearing so many stories of NHS heroes Teachers...</td>\n",
              "      <td>1</td>\n",
              "    </tr>\n",
              "    <tr>\n",
              "      <th>8221</th>\n",
              "      <td>13787</td>\n",
              "      <td>58739</td>\n",
              "      <td>Unknown</td>\n",
              "      <td>20-03-2020</td>\n",
              "      <td>Let s just take a minute to say THANK YOU also...</td>\n",
              "      <td>1</td>\n",
              "    </tr>\n",
              "    <tr>\n",
              "      <th>3183</th>\n",
              "      <td>7654</td>\n",
              "      <td>52606</td>\n",
              "      <td>London, England</td>\n",
              "      <td>18-03-2020</td>\n",
              "      <td>Back at the \"Frontline\"\\r\\r\\nA massive shout o...</td>\n",
              "      <td>1</td>\n",
              "    </tr>\n",
              "    <tr>\n",
              "      <th>24347</th>\n",
              "      <td>33577</td>\n",
              "      <td>78529</td>\n",
              "      <td>Unknown</td>\n",
              "      <td>05-04-2020</td>\n",
              "      <td>Massive thanks to @waitrose for my delivery of...</td>\n",
              "      <td>1</td>\n",
              "    </tr>\n",
              "    <tr>\n",
              "      <th>3281</th>\n",
              "      <td>7772</td>\n",
              "      <td>52724</td>\n",
              "      <td>Nairobi, Kenya</td>\n",
              "      <td>18-03-2020</td>\n",
              "      <td>Crisp clean fresh air perfect ambience Covid 1...</td>\n",
              "      <td>1</td>\n",
              "    </tr>\n",
              "    <tr>\n",
              "      <th>...</th>\n",
              "      <td>...</td>\n",
              "      <td>...</td>\n",
              "      <td>...</td>\n",
              "      <td>...</td>\n",
              "      <td>...</td>\n",
              "      <td>...</td>\n",
              "    </tr>\n",
              "    <tr>\n",
              "      <th>8199</th>\n",
              "      <td>13757</td>\n",
              "      <td>58709</td>\n",
              "      <td>Wrightington</td>\n",
              "      <td>20-03-2020</td>\n",
              "      <td>The support from customers this week has been ...</td>\n",
              "      <td>1</td>\n",
              "    </tr>\n",
              "    <tr>\n",
              "      <th>11636</th>\n",
              "      <td>17911</td>\n",
              "      <td>62863</td>\n",
              "      <td>Australia</td>\n",
              "      <td>21-03-2020</td>\n",
              "      <td>Margot Robbie is an amazing actress, and love ...</td>\n",
              "      <td>1</td>\n",
              "    </tr>\n",
              "    <tr>\n",
              "      <th>23018</th>\n",
              "      <td>31918</td>\n",
              "      <td>76870</td>\n",
              "      <td>Karachi, Pakistan</td>\n",
              "      <td>04-04-2020</td>\n",
              "      <td>Face Mask (Pack of 5) ÃÂ Meeting the need of...</td>\n",
              "      <td>1</td>\n",
              "    </tr>\n",
              "    <tr>\n",
              "      <th>5208</th>\n",
              "      <td>10126</td>\n",
              "      <td>55078</td>\n",
              "      <td>Unknown</td>\n",
              "      <td>19-03-2020</td>\n",
              "      <td>There's some amazing work going on in the worl...</td>\n",
              "      <td>1</td>\n",
              "    </tr>\n",
              "    <tr>\n",
              "      <th>469</th>\n",
              "      <td>4365</td>\n",
              "      <td>49317</td>\n",
              "      <td>TaÃÂ¯wan</td>\n",
              "      <td>16-03-2020</td>\n",
              "      <td>#COVID19 19 A friend of mine in the US works a...</td>\n",
              "      <td>1</td>\n",
              "    </tr>\n",
              "  </tbody>\n",
              "</table>\n",
              "<p>68 rows × 6 columns</p>\n",
              "</div>"
            ],
            "text/plain": [
              "       UserName  ScreenName           Location     TweetAt  \\\n",
              "4583       9362       54314   Moulton, England  19-03-2020   \n",
              "8221      13787       58739            Unknown  20-03-2020   \n",
              "3183       7654       52606    London, England  18-03-2020   \n",
              "24347     33577       78529            Unknown  05-04-2020   \n",
              "3281       7772       52724     Nairobi, Kenya  18-03-2020   \n",
              "...         ...         ...                ...         ...   \n",
              "8199      13757       58709      Wrightington   20-03-2020   \n",
              "11636     17911       62863          Australia  21-03-2020   \n",
              "23018     31918       76870  Karachi, Pakistan  04-04-2020   \n",
              "5208      10126       55078            Unknown  19-03-2020   \n",
              "469        4365       49317          TaÃÂ¯wan  16-03-2020   \n",
              "\n",
              "                                           OriginalTweet  Sentiment  \n",
              "4583   Hearing so many stories of NHS heroes Teachers...          1  \n",
              "8221   Let s just take a minute to say THANK YOU also...          1  \n",
              "3183   Back at the \"Frontline\"\\r\\r\\nA massive shout o...          1  \n",
              "24347  Massive thanks to @waitrose for my delivery of...          1  \n",
              "3281   Crisp clean fresh air perfect ambience Covid 1...          1  \n",
              "...                                                  ...        ...  \n",
              "8199   The support from customers this week has been ...          1  \n",
              "11636  Margot Robbie is an amazing actress, and love ...          1  \n",
              "23018  Face Mask (Pack of 5) ÃÂ Meeting the need of...          1  \n",
              "5208   There's some amazing work going on in the worl...          1  \n",
              "469    #COVID19 19 A friend of mine in the US works a...          1  \n",
              "\n",
              "[68 rows x 6 columns]"
            ]
          },
          "execution_count": 42,
          "metadata": {},
          "output_type": "execute_result"
        }
      ],
      "source": [
        "train[train['OriginalTweet'].apply(lambda x: 'amazing' in x) & (train['Sentiment'] == 1)]"
      ]
    },
    {
      "cell_type": "markdown",
      "metadata": {},
      "source": [
        "Возьмем позитивный твит про магазин Waitrose с индексом 24347."
      ]
    },
    {
      "cell_type": "code",
      "execution_count": 43,
      "metadata": {},
      "outputs": [
        {
          "data": {
            "text/plain": [
              "'Massive thanks to @waitrose for my delivery of my online food shopping, you two delivery drivers were amazing &amp; excellent customer service skills, not sure why I stopped having you delivery my shopping, I will be having you deliver every week once I can once #coronavirus is over'"
            ]
          },
          "execution_count": 43,
          "metadata": {},
          "output_type": "execute_result"
        }
      ],
      "source": [
        "tweet = train.loc[24347]\n",
        "tweet[\"OriginalTweet\"]"
      ]
    },
    {
      "cell_type": "code",
      "execution_count": 44,
      "metadata": {
        "id": "jSjbKPCWk87K"
      },
      "outputs": [
        {
          "name": "stdout",
          "output_type": "stream",
          "text": [
            "Best delivery\n",
            "vocabulary[best] = 23960\n"
          ]
        }
      ],
      "source": [
        "features = tfidf.get_feature_names_out()\n",
        "tweetX = tfidf.transform([tweet[\"OriginalTweet\"]])\n",
        "best = np.argmax(tweetX)\n",
        "print(\"Best\", features[best])\n",
        "print(\"vocabulary[best] =\", tfidf.vocabulary_[features[best]])"
      ]
    },
    {
      "cell_type": "markdown",
      "metadata": {
        "id": "JTv9ST2_U6NA"
      },
      "source": [
        "**Ответ:** действительно, токен `delivery` важен в этом твите, так как он непосредственно указывает на тематику твита."
      ]
    },
    {
      "cell_type": "markdown",
      "metadata": {
        "id": "JVEuZm8BHms6"
      },
      "source": [
        "## Задание 4 Обучение первых моделей (1 балл)"
      ]
    },
    {
      "cell_type": "markdown",
      "metadata": {
        "id": "JADkO3sfXdOG"
      },
      "source": [
        "Примените оба векторайзера для получения матриц с признаками текстов.  Выделите целевую переменную."
      ]
    },
    {
      "cell_type": "code",
      "execution_count": 45,
      "metadata": {
        "id": "DguoiXhCX2oN"
      },
      "outputs": [
        {
          "data": {
            "text/plain": [
              "((23410, 5), (23410,), (10034, 5), (10034,))"
            ]
          },
          "execution_count": 45,
          "metadata": {},
          "output_type": "execute_result"
        }
      ],
      "source": [
        "X_train, y_train = train.drop(columns=[\"Sentiment\"]), train[\"Sentiment\"]\n",
        "X_test, y_test = test.drop(columns=[\"Sentiment\"]), test[\"Sentiment\"]\n",
        "X_train.shape, y_train.shape, X_test.shape, y_test.shape"
      ]
    },
    {
      "cell_type": "code",
      "execution_count": 46,
      "metadata": {},
      "outputs": [
        {
          "name": "stderr",
          "output_type": "stream",
          "text": [
            "/opt/homebrew/anaconda3/lib/python3.12/site-packages/sklearn/feature_extraction/text.py:521: UserWarning: The parameter 'token_pattern' will not be used since 'tokenizer' is not None'\n",
            "  warnings.warn(\n"
          ]
        }
      ],
      "source": [
        "cv_vec_train = cv.fit_transform(X_train[\"OriginalTweet\"])\n",
        "cv_vec_test = cv.transform(X_test[\"OriginalTweet\"])\n",
        "\n",
        "tfidf_vec_train = tfidf.fit_transform(X_train[\"OriginalTweet\"])\n",
        "tfidf_vec_test = tfidf.transform(X_test[\"OriginalTweet\"])"
      ]
    },
    {
      "cell_type": "markdown",
      "metadata": {
        "id": "_FX1KSOfYSx4"
      },
      "source": [
        "Обучите логистическую регрессию на векторах из обоих векторайзеров. Посчитайте долю правильных ответов на обучающих и тестовых данных. Какой векторайзер показал лучший результат? Что можно сказать о моделях?\n",
        "\n",
        "Используйте `sparse` матрицы (после векторизации), не превращайте их в `numpy.ndarray` или `pd.DataFrame` - может не хватить памяти."
      ]
    },
    {
      "cell_type": "code",
      "execution_count": 47,
      "metadata": {},
      "outputs": [],
      "source": [
        "from sklearn.linear_model import LogisticRegression\n",
        "from sklearn.metrics import accuracy_score"
      ]
    },
    {
      "cell_type": "code",
      "execution_count": 48,
      "metadata": {
        "id": "-Tb3eh8UXJ6v"
      },
      "outputs": [
        {
          "name": "stdout",
          "output_type": "stream",
          "text": [
            "Train accuracy: 0.9846646732165741\n",
            "Test accuracy: 0.8670520231213873\n"
          ]
        }
      ],
      "source": [
        "cv_logreg = LogisticRegression(max_iter=1000)\n",
        "cv_logreg.fit(cv_vec_train, y_train)\n",
        "\n",
        "print(\"Train accuracy:\", accuracy_score(y_train, cv_logreg.predict(cv_vec_train)))\n",
        "print(\"Test accuracy:\", accuracy_score(y_test, cv_logreg.predict(cv_vec_test)))"
      ]
    },
    {
      "cell_type": "code",
      "execution_count": 49,
      "metadata": {},
      "outputs": [
        {
          "name": "stdout",
          "output_type": "stream",
          "text": [
            "Train accuracy: 0.9224263135412217\n",
            "Test accuracy: 0.85280047837353\n"
          ]
        }
      ],
      "source": [
        "tfidf_logreg = LogisticRegression(max_iter=1000)\n",
        "tfidf_logreg.fit(tfidf_vec_train, y_train)\n",
        "\n",
        "print(\"Train accuracy:\", accuracy_score(y_train, tfidf_logreg.predict(tfidf_vec_train)))\n",
        "print(\"Test accuracy:\", accuracy_score(y_test, tfidf_logreg.predict(tfidf_vec_test)))"
      ]
    },
    {
      "cell_type": "markdown",
      "metadata": {
        "id": "8y_wO7rCmv7K"
      },
      "source": [
        "**Ответ:** обе модели показали хорошие результаты, но, что удивительно для автора, модель с `CountVectorizer` показала лучший результат. Однако, на тестовой выборке модель с `CountVectorizer` показала результат 0.98, что может говорить о переобучении модели."
      ]
    },
    {
      "cell_type": "markdown",
      "metadata": {
        "id": "rSOR1i3mjrys"
      },
      "source": [
        "## Задание 5 Стемминг (0.5 балла)"
      ]
    },
    {
      "cell_type": "markdown",
      "metadata": {
        "id": "i6ONBWNPjuq-"
      },
      "source": [
        "Для уменьшения словаря можно использовать стемминг.\n",
        "\n",
        "Модифицируйте написанный токенайзер, добавив в него стемминг с использованием SnowballStemmer. Обучите Count- и Tfidf- векторайзеры. Как изменился размер словаря?"
      ]
    },
    {
      "cell_type": "code",
      "execution_count": 50,
      "metadata": {
        "id": "oVfA2-iMkQBb"
      },
      "outputs": [],
      "source": [
        "from nltk.stem.snowball import SnowballStemmer\n",
        "\n",
        "def custom_stem_tokenizer(text):\n",
        "  stemmer = SnowballStemmer(\"english\")\n",
        "  tokens = custom_tokenizer(text)\n",
        "  return [stemmer.stem(token) for token in tokens]"
      ]
    },
    {
      "cell_type": "code",
      "execution_count": 51,
      "metadata": {},
      "outputs": [
        {
          "data": {
            "text/plain": [
              "['sampl', 'text', '@sample_text', '#sampletext', 'ad', 'word', 'check', 'stem']"
            ]
          },
          "execution_count": 51,
          "metadata": {},
          "output_type": "execute_result"
        }
      ],
      "source": [
        "custom_stem_tokenizer('This is sample text!!!! @Sample_text I, \\x92\\x92 https://t.co/sample  #sampletext adding more words to check stemming')"
      ]
    },
    {
      "cell_type": "code",
      "execution_count": 52,
      "metadata": {
        "colab": {
          "base_uri": "https://localhost:8080/"
        },
        "id": "zAvUTmaplzOS",
        "outputId": "566207fe-183b-4ed6-d333-f86f0cc9ae38"
      },
      "outputs": [
        {
          "name": "stderr",
          "output_type": "stream",
          "text": [
            "/opt/homebrew/anaconda3/lib/python3.12/site-packages/sklearn/feature_extraction/text.py:521: UserWarning: The parameter 'token_pattern' will not be used since 'tokenizer' is not None'\n",
            "  warnings.warn(\n"
          ]
        },
        {
          "name": "stdout",
          "output_type": "stream",
          "text": [
            "36634\n"
          ]
        }
      ],
      "source": [
        "cv_stemming = CountVectorizer(tokenizer=custom_stem_tokenizer)\n",
        "cv_stemming.fit(X_train[\"OriginalTweet\"])\n",
        "\n",
        "print(len(cv_stemming.vocabulary_))"
      ]
    },
    {
      "cell_type": "markdown",
      "metadata": {},
      "source": [
        "Найдем, во сколько раз уменьшился размер словаря. "
      ]
    },
    {
      "cell_type": "code",
      "execution_count": 53,
      "metadata": {},
      "outputs": [
        {
          "data": {
            "text/plain": [
              "1.2362832341540646"
            ]
          },
          "execution_count": 53,
          "metadata": {},
          "output_type": "execute_result"
        }
      ],
      "source": [
        "len(cv.vocabulary_) / len(cv_stemming.vocabulary_)"
      ]
    },
    {
      "cell_type": "code",
      "execution_count": 54,
      "metadata": {},
      "outputs": [
        {
          "name": "stdout",
          "output_type": "stream",
          "text": [
            "36634\n"
          ]
        }
      ],
      "source": [
        "tfidf_stemming = TfidfVectorizer(tokenizer=custom_stem_tokenizer)\n",
        "tfidf_stemming.fit(X_train[\"OriginalTweet\"])\n",
        "\n",
        "print(len(tfidf_stemming.vocabulary_))"
      ]
    },
    {
      "cell_type": "markdown",
      "metadata": {
        "id": "Oyzs5TaAoHP6"
      },
      "source": [
        "**Ответ:** ожидаемо размер словаря уменьшился при использовании стемминга, причем примерно в 1.25 раза. Это связано с тем, что стемминг приводит слова к их основе, что позволяет уменьшить размер словаря."
      ]
    },
    {
      "cell_type": "markdown",
      "metadata": {
        "id": "1OkncHI8oRmd"
      },
      "source": [
        "Обучите логистическую регрессию с использованием обоих векторайзеров. Изменилось ли качество? Есть ли смысл применять стемминг?"
      ]
    },
    {
      "cell_type": "code",
      "execution_count": 55,
      "metadata": {},
      "outputs": [],
      "source": [
        "cv_stemming_vec_train = cv_stemming.fit_transform(X_train[\"OriginalTweet\"])\n",
        "cv_stemming_vec_test = cv_stemming.transform(X_test[\"OriginalTweet\"])\n",
        "\n",
        "tfidf_stemming_vec_train = tfidf_stemming.fit_transform(X_train[\"OriginalTweet\"])\n",
        "tfidf_stemming_vec_test = tfidf_stemming.transform(X_test[\"OriginalTweet\"])"
      ]
    },
    {
      "cell_type": "code",
      "execution_count": 56,
      "metadata": {},
      "outputs": [
        {
          "name": "stdout",
          "output_type": "stream",
          "text": [
            "Train accuracy: 0.9720205040580948\n",
            "Test accuracy: 0.8674506677297189\n"
          ]
        }
      ],
      "source": [
        "cv_stemming_logreg = LogisticRegression(max_iter=1000)\n",
        "cv_stemming_logreg.fit(cv_stemming_vec_train, y_train)\n",
        "\n",
        "print(\"Train accuracy:\", accuracy_score(y_train, cv_stemming_logreg.predict(cv_stemming_vec_train)))\n",
        "print(\"Test accuracy:\", accuracy_score(y_test, cv_stemming_logreg.predict(cv_stemming_vec_test)))"
      ]
    },
    {
      "cell_type": "code",
      "execution_count": 57,
      "metadata": {},
      "outputs": [
        {
          "name": "stdout",
          "output_type": "stream",
          "text": [
            "Train accuracy: 0.9165741136266553\n",
            "Test accuracy: 0.8559896352401833\n"
          ]
        }
      ],
      "source": [
        "tfidf_stemming_logreg = LogisticRegression(max_iter=1000)\n",
        "tfidf_stemming_logreg.fit(tfidf_stemming_vec_train, y_train)\n",
        "\n",
        "print(\"Train accuracy:\", accuracy_score(y_train, tfidf_stemming_logreg.predict(tfidf_stemming_vec_train)))\n",
        "print(\"Test accuracy:\", accuracy_score(y_test, tfidf_stemming_logreg.predict(tfidf_stemming_vec_test)))"
      ]
    },
    {
      "cell_type": "code",
      "execution_count": 58,
      "metadata": {},
      "outputs": [
        {
          "data": {
            "application/vnd.microsoft.datawrangler.viewer.v0+json": {
              "columns": [
                {
                  "name": "index",
                  "rawType": "object",
                  "type": "string"
                },
                {
                  "name": "Train accuracy",
                  "rawType": "float64",
                  "type": "float"
                },
                {
                  "name": "Test accuracy",
                  "rawType": "float64",
                  "type": "float"
                }
              ],
              "conversionMethod": "pd.DataFrame",
              "ref": "b1453156-069d-4d1e-a87e-5fb3b18d04ca",
              "rows": [
                [
                  "CountVectorizer",
                  "0.9846646732165741",
                  "0.8670520231213873"
                ],
                [
                  "TfidfVectorizer",
                  "0.9224263135412217",
                  "0.85280047837353"
                ],
                [
                  "CountVectorizer + Stemming",
                  "0.9720205040580948",
                  "0.8674506677297189"
                ],
                [
                  "TfidfVectorizer + Stemming",
                  "0.9165741136266553",
                  "0.8559896352401833"
                ]
              ],
              "shape": {
                "columns": 2,
                "rows": 4
              }
            },
            "text/html": [
              "<div>\n",
              "<style scoped>\n",
              "    .dataframe tbody tr th:only-of-type {\n",
              "        vertical-align: middle;\n",
              "    }\n",
              "\n",
              "    .dataframe tbody tr th {\n",
              "        vertical-align: top;\n",
              "    }\n",
              "\n",
              "    .dataframe thead th {\n",
              "        text-align: right;\n",
              "    }\n",
              "</style>\n",
              "<table border=\"1\" class=\"dataframe\">\n",
              "  <thead>\n",
              "    <tr style=\"text-align: right;\">\n",
              "      <th></th>\n",
              "      <th>Train accuracy</th>\n",
              "      <th>Test accuracy</th>\n",
              "    </tr>\n",
              "  </thead>\n",
              "  <tbody>\n",
              "    <tr>\n",
              "      <th>CountVectorizer</th>\n",
              "      <td>0.984665</td>\n",
              "      <td>0.867052</td>\n",
              "    </tr>\n",
              "    <tr>\n",
              "      <th>TfidfVectorizer</th>\n",
              "      <td>0.922426</td>\n",
              "      <td>0.852800</td>\n",
              "    </tr>\n",
              "    <tr>\n",
              "      <th>CountVectorizer + Stemming</th>\n",
              "      <td>0.972021</td>\n",
              "      <td>0.867451</td>\n",
              "    </tr>\n",
              "    <tr>\n",
              "      <th>TfidfVectorizer + Stemming</th>\n",
              "      <td>0.916574</td>\n",
              "      <td>0.855990</td>\n",
              "    </tr>\n",
              "  </tbody>\n",
              "</table>\n",
              "</div>"
            ],
            "text/plain": [
              "                            Train accuracy  Test accuracy\n",
              "CountVectorizer                   0.984665       0.867052\n",
              "TfidfVectorizer                   0.922426       0.852800\n",
              "CountVectorizer + Stemming        0.972021       0.867451\n",
              "TfidfVectorizer + Stemming        0.916574       0.855990"
            ]
          },
          "execution_count": 58,
          "metadata": {},
          "output_type": "execute_result"
        }
      ],
      "source": [
        "results = pd.DataFrame(columns=[\"Train accuracy\", \"Test accuracy\"], \n",
        "              index=[\"CountVectorizer\", \"TfidfVectorizer\", \"CountVectorizer + Stemming\", \"TfidfVectorizer + Stemming\"],\n",
        "              data=[[accuracy_score(y_train, cv_logreg.predict(cv_vec_train)), accuracy_score(y_test, cv_logreg.predict(cv_vec_test))],\n",
        "                    [accuracy_score(y_train, tfidf_logreg.predict(tfidf_vec_train)), accuracy_score(y_test, tfidf_logreg.predict(tfidf_vec_test))],\n",
        "                    [accuracy_score(y_train, cv_stemming_logreg.predict(cv_stemming_vec_train)), accuracy_score(y_test, cv_stemming_logreg.predict(cv_stemming_vec_test))],\n",
        "                    [accuracy_score(y_train, tfidf_stemming_logreg.predict(tfidf_stemming_vec_train)), accuracy_score(y_test, tfidf_stemming_logreg.predict(tfidf_stemming_vec_test))]])\n",
        "results"
      ]
    },
    {
      "cell_type": "markdown",
      "metadata": {
        "id": "bCRlrODro0h8"
      },
      "source": [
        "**Ответ:** наблюдается совсем небольшое улучшение accuracy на тестовой выборке, но на обучающей выборке наоборот — ухудшение. В целом можно сказать, что стемминг в нашем случае не сильно влияет на качество модели, но не исключено, что в других случаях он может помочь."
      ]
    },
    {
      "cell_type": "markdown",
      "metadata": {
        "id": "hYWGQNEDqLC-"
      },
      "source": [
        "## Задание  6 Работа с частотами (1.5 балла)"
      ]
    },
    {
      "cell_type": "markdown",
      "metadata": {
        "id": "8Hq-tl5mqUSn"
      },
      "source": [
        "Еще один способ уменьшить количество признаков - это использовать параметры min_df и max_df при построении векторайзера  эти параметры помогают ограничить требуемую частоту встречаемости токена в документах.\n",
        "\n",
        "По умолчанию берутся все токены, которые встретились хотя бы один раз.\n",
        "\n"
      ]
    },
    {
      "cell_type": "markdown",
      "metadata": {
        "id": "m1SiD4DE3WZ2"
      },
      "source": [
        "Подберите max_df такой, что размер словаря будет 36651 (на 1 меньше, чем было). Почему параметр получился такой большой/маленький?"
      ]
    },
    {
      "cell_type": "markdown",
      "metadata": {},
      "source": [
        "Так как изначально у меня не 36651 токен, а 36634, будем добиваться на один меньше, то есть 36633."
      ]
    },
    {
      "cell_type": "code",
      "execution_count": 59,
      "metadata": {},
      "outputs": [
        {
          "data": {
            "text/plain": [
              "(33444, 6)"
            ]
          },
          "execution_count": 59,
          "metadata": {},
          "output_type": "execute_result"
        }
      ],
      "source": [
        "# Смотрим, сколько всего текстов\n",
        "df.shape"
      ]
    },
    {
      "cell_type": "code",
      "execution_count": 60,
      "metadata": {
        "colab": {
          "base_uri": "https://localhost:8080/"
        },
        "id": "o3YLb8PViExb",
        "outputId": "b6d67654-d232-4e11-a5ca-6f2145053e98"
      },
      "outputs": [
        {
          "name": "stderr",
          "output_type": "stream",
          "text": [
            "/opt/homebrew/anaconda3/lib/python3.12/site-packages/sklearn/feature_extraction/text.py:521: UserWarning: The parameter 'token_pattern' will not be used since 'tokenizer' is not None'\n",
            "  warnings.warn(\n"
          ]
        },
        {
          "name": "stdout",
          "output_type": "stream",
          "text": [
            "36634\n"
          ]
        }
      ],
      "source": [
        "cv_df = CountVectorizer(tokenizer=custom_stem_tokenizer,\n",
        "                        max_df=10000,\n",
        "                        ).fit(\n",
        "                            X_train[\"OriginalTweet\"]\n",
        "                            )\n",
        "print(len(cv_df.vocabulary_))"
      ]
    },
    {
      "cell_type": "markdown",
      "metadata": {
        "id": "tyEpkJUkjnuK"
      },
      "source": [
        "Слишком большой параметр, так как в словаре по прежнему 36634 токена."
      ]
    },
    {
      "cell_type": "code",
      "execution_count": 61,
      "metadata": {},
      "outputs": [
        {
          "name": "stdout",
          "output_type": "stream",
          "text": [
            "36633\n"
          ]
        }
      ],
      "source": [
        "cv_df = CountVectorizer(tokenizer=custom_stem_tokenizer,\n",
        "                        max_df=7000,\n",
        "                        ).fit(\n",
        "                            X_train[\"OriginalTweet\"]\n",
        "                            )\n",
        "print(len(cv_df.vocabulary_))"
      ]
    },
    {
      "cell_type": "code",
      "execution_count": 62,
      "metadata": {},
      "outputs": [
        {
          "data": {
            "text/plain": [
              "{'#coronavirus'}"
            ]
          },
          "execution_count": 62,
          "metadata": {},
          "output_type": "execute_result"
        }
      ],
      "source": [
        "set(cv_stemming.vocabulary_) - set(cv_df.vocabulary_)"
      ]
    },
    {
      "cell_type": "markdown",
      "metadata": {},
      "source": [
        "Видим, что при найденном параметре max_df перестает учитываться токен `#coronavirus`."
      ]
    },
    {
      "cell_type": "markdown",
      "metadata": {
        "id": "UdZYoGZR4UsA"
      },
      "source": [
        "**Ответ:** не пришлось долго перебирать, значение нашлось почти сразу. Параметр получился большим, так как в словаре самый популярный токен `#coronavirus` встречался очень часто."
      ]
    },
    {
      "cell_type": "markdown",
      "metadata": {
        "id": "_gRIUaB1u32f"
      },
      "source": [
        "Подберите min_df (используйте дефолтное значение max_df) в CountVectorizer таким образом, чтобы размер словаря был 3700 токенов (при использовании токенайзера со стеммингом), а качество осталось таким же, как и было. Что можно сказать о результатах?"
      ]
    },
    {
      "cell_type": "code",
      "execution_count": 63,
      "metadata": {
        "colab": {
          "base_uri": "https://localhost:8080/"
        },
        "id": "kSnMJkn9XmsT",
        "outputId": "e0d8eb21-e5d7-46b4-e1d1-4b1ae220e9a0"
      },
      "outputs": [
        {
          "name": "stdout",
          "output_type": "stream",
          "text": [
            "3918\n"
          ]
        }
      ],
      "source": [
        "cv_df = CountVectorizer(tokenizer=custom_stem_tokenizer,\n",
        "                        min_df=10\n",
        "                        ).fit(\n",
        "                            X_train[\"OriginalTweet\"]\n",
        "                            )\n",
        "print(len(cv_df.vocabulary_))"
      ]
    },
    {
      "cell_type": "markdown",
      "metadata": {},
      "source": [
        "Становится понятно, в какую сторону двигаться. Переберем значения."
      ]
    },
    {
      "cell_type": "code",
      "execution_count": 64,
      "metadata": {
        "id": "mvMDwpdfjm8Y"
      },
      "outputs": [
        {
          "name": "stderr",
          "output_type": "stream",
          "text": [
            "  0%|          | 0/14 [48:10<?, ?it/s]"
          ]
        },
        {
          "name": "stdout",
          "output_type": "stream",
          "text": [
            "min_df = 11\n",
            "len(cv_df.vocabulary_) = 3687\n"
          ]
        },
        {
          "name": "stderr",
          "output_type": "stream",
          "text": [
            "\n"
          ]
        }
      ],
      "source": [
        "from tqdm import tqdm\n",
        "\n",
        "for test_value in tqdm(range(11, 25)):\n",
        "    cv_df = CountVectorizer(tokenizer=custom_stem_tokenizer,\n",
        "                            min_df=test_value\n",
        "                            ).fit(\n",
        "                                X_train[\"OriginalTweet\"]\n",
        "                                )\n",
        "    if len(cv_df.vocabulary_) <= 3700:\n",
        "        print(\"min_df =\", test_value)\n",
        "        print(\"len(cv_df.vocabulary_) =\", len(cv_df.vocabulary_))\n",
        "        break"
      ]
    },
    {
      "cell_type": "markdown",
      "metadata": {},
      "source": [
        "Ровно 3700 токенов не получилось и не получится, так как количество токенов монотонно убывает при увеличении min_df, а пограничное значение — 11 (при min_df = 10 токенов 3918, слишком много).\n",
        "\n",
        "Проверим, не потеряли ли мы качество модели."
      ]
    },
    {
      "cell_type": "code",
      "execution_count": 65,
      "metadata": {},
      "outputs": [
        {
          "name": "stdout",
          "output_type": "stream",
          "text": [
            "Train accuracy: 0.9290046988466467\n",
            "Test accuracy: 0.8680486346422165\n"
          ]
        }
      ],
      "source": [
        "cv_df_vec_train = cv_df.fit_transform(X_train[\"OriginalTweet\"])\n",
        "cv_df_vec_test = cv_df.transform(X_test[\"OriginalTweet\"])\n",
        "\n",
        "cv_df_logreg = LogisticRegression(max_iter=1000)\n",
        "cv_df_logreg.fit(cv_df_vec_train, y_train)\n",
        "\n",
        "print(\"Train accuracy:\", accuracy_score(y_train, cv_df_logreg.predict(cv_df_vec_train)))\n",
        "print(\"Test accuracy:\", accuracy_score(y_test, cv_df_logreg.predict(cv_df_vec_test)))\n"
      ]
    },
    {
      "cell_type": "code",
      "execution_count": 66,
      "metadata": {},
      "outputs": [
        {
          "data": {
            "application/vnd.microsoft.datawrangler.viewer.v0+json": {
              "columns": [
                {
                  "name": "index",
                  "rawType": "object",
                  "type": "string"
                },
                {
                  "name": "Train accuracy",
                  "rawType": "float64",
                  "type": "float"
                },
                {
                  "name": "Test accuracy",
                  "rawType": "float64",
                  "type": "float"
                }
              ],
              "conversionMethod": "pd.DataFrame",
              "ref": "fdad7f16-d8f1-4374-9104-9715dc010beb",
              "rows": [
                [
                  "CountVectorizer",
                  "0.9846646732165741",
                  "0.8670520231213873"
                ],
                [
                  "TfidfVectorizer",
                  "0.9224263135412217",
                  "0.85280047837353"
                ],
                [
                  "CountVectorizer + Stemming",
                  "0.9720205040580948",
                  "0.8674506677297189"
                ],
                [
                  "TfidfVectorizer + Stemming",
                  "0.9165741136266553",
                  "0.8559896352401833"
                ],
                [
                  "CountVectorizer + min_df",
                  "0.9290046988466467",
                  "0.8680486346422165"
                ]
              ],
              "shape": {
                "columns": 2,
                "rows": 5
              }
            },
            "text/html": [
              "<div>\n",
              "<style scoped>\n",
              "    .dataframe tbody tr th:only-of-type {\n",
              "        vertical-align: middle;\n",
              "    }\n",
              "\n",
              "    .dataframe tbody tr th {\n",
              "        vertical-align: top;\n",
              "    }\n",
              "\n",
              "    .dataframe thead th {\n",
              "        text-align: right;\n",
              "    }\n",
              "</style>\n",
              "<table border=\"1\" class=\"dataframe\">\n",
              "  <thead>\n",
              "    <tr style=\"text-align: right;\">\n",
              "      <th></th>\n",
              "      <th>Train accuracy</th>\n",
              "      <th>Test accuracy</th>\n",
              "    </tr>\n",
              "  </thead>\n",
              "  <tbody>\n",
              "    <tr>\n",
              "      <th>CountVectorizer</th>\n",
              "      <td>0.984665</td>\n",
              "      <td>0.867052</td>\n",
              "    </tr>\n",
              "    <tr>\n",
              "      <th>TfidfVectorizer</th>\n",
              "      <td>0.922426</td>\n",
              "      <td>0.852800</td>\n",
              "    </tr>\n",
              "    <tr>\n",
              "      <th>CountVectorizer + Stemming</th>\n",
              "      <td>0.972021</td>\n",
              "      <td>0.867451</td>\n",
              "    </tr>\n",
              "    <tr>\n",
              "      <th>TfidfVectorizer + Stemming</th>\n",
              "      <td>0.916574</td>\n",
              "      <td>0.855990</td>\n",
              "    </tr>\n",
              "    <tr>\n",
              "      <th>CountVectorizer + min_df</th>\n",
              "      <td>0.929005</td>\n",
              "      <td>0.868049</td>\n",
              "    </tr>\n",
              "  </tbody>\n",
              "</table>\n",
              "</div>"
            ],
            "text/plain": [
              "                            Train accuracy  Test accuracy\n",
              "CountVectorizer                   0.984665       0.867052\n",
              "TfidfVectorizer                   0.922426       0.852800\n",
              "CountVectorizer + Stemming        0.972021       0.867451\n",
              "TfidfVectorizer + Stemming        0.916574       0.855990\n",
              "CountVectorizer + min_df          0.929005       0.868049"
            ]
          },
          "execution_count": 66,
          "metadata": {},
          "output_type": "execute_result"
        }
      ],
      "source": [
        "results = pd.concat([\n",
        "    results,\n",
        "    pd.DataFrame([[accuracy_score(y_train, cv_df_logreg.predict(cv_df_vec_train)), accuracy_score(y_test, cv_df_logreg.predict(cv_df_vec_test))]], columns=[\"Train accuracy\", \"Test accuracy\"], index=[\"CountVectorizer + min_df\"]),\n",
        "])\n",
        "results"
      ]
    },
    {
      "cell_type": "markdown",
      "metadata": {
        "id": "3fGYpUIZx0fk"
      },
      "source": [
        "**Ответ:** на 3700 токенах качество модели немного улучшилось на тестовой выборке, но ухудшилось на обучающей. Это может говорить о том, что мы избавились от переобучения на обучающей выборке."
      ]
    },
    {
      "cell_type": "markdown",
      "metadata": {
        "id": "Gx_h_-inKbBl"
      },
      "source": [
        "В предыдущих заданиях признаки не скалировались. Отскалируйте данные (при словаре размера 3.7 тысяч, векторизованные CountVectorizer), обучите логистическую регрессию, посмотрите качество и выведите `barplot`, содержащий по 10 токенов, с наибольшим по модулю положительными/отрицательными весами. Что можно сказать об этих токенах?"
      ]
    },
    {
      "cell_type": "code",
      "execution_count": 67,
      "metadata": {
        "id": "KBATXJX6LG9q"
      },
      "outputs": [
        {
          "name": "stdout",
          "output_type": "stream",
          "text": [
            "Train accuracy: 0.9412217001281503\n",
            "Test accuracy: 0.8446282639027307\n"
          ]
        }
      ],
      "source": [
        "from sklearn.preprocessing import StandardScaler\n",
        "\n",
        "scaler = StandardScaler()\n",
        "cv_df_vec_train_scaled = scaler.fit_transform(cv_df_vec_train.toarray())\n",
        "cv_df_vec_test_scaled = scaler.transform(cv_df_vec_test.toarray())\n",
        "\n",
        "cv_df_logreg_scaled = LogisticRegression(max_iter=1000)\n",
        "cv_df_logreg_scaled.fit(cv_df_vec_train_scaled, y_train)\n",
        "\n",
        "print(\"Train accuracy:\", accuracy_score(y_train, cv_df_logreg_scaled.predict(cv_df_vec_train_scaled)))\n",
        "print(\"Test accuracy:\", accuracy_score(y_test, cv_df_logreg_scaled.predict(cv_df_vec_test_scaled)))"
      ]
    },
    {
      "cell_type": "code",
      "execution_count": 68,
      "metadata": {},
      "outputs": [
        {
          "data": {
            "application/vnd.microsoft.datawrangler.viewer.v0+json": {
              "columns": [
                {
                  "name": "index",
                  "rawType": "object",
                  "type": "string"
                },
                {
                  "name": "Train accuracy",
                  "rawType": "float64",
                  "type": "float"
                },
                {
                  "name": "Test accuracy",
                  "rawType": "float64",
                  "type": "float"
                }
              ],
              "conversionMethod": "pd.DataFrame",
              "ref": "981c9970-5d5b-4c9d-9fe5-5b407cbb227a",
              "rows": [
                [
                  "CountVectorizer",
                  "0.9846646732165741",
                  "0.8670520231213873"
                ],
                [
                  "TfidfVectorizer",
                  "0.9224263135412217",
                  "0.85280047837353"
                ],
                [
                  "CountVectorizer + Stemming",
                  "0.9720205040580948",
                  "0.8674506677297189"
                ],
                [
                  "TfidfVectorizer + Stemming",
                  "0.9165741136266553",
                  "0.8559896352401833"
                ],
                [
                  "CountVectorizer + min_df",
                  "0.9290046988466467",
                  "0.8680486346422165"
                ],
                [
                  "CountVectorizer + min_df + scaling",
                  "0.9412217001281503",
                  "0.8446282639027307"
                ]
              ],
              "shape": {
                "columns": 2,
                "rows": 6
              }
            },
            "text/html": [
              "<div>\n",
              "<style scoped>\n",
              "    .dataframe tbody tr th:only-of-type {\n",
              "        vertical-align: middle;\n",
              "    }\n",
              "\n",
              "    .dataframe tbody tr th {\n",
              "        vertical-align: top;\n",
              "    }\n",
              "\n",
              "    .dataframe thead th {\n",
              "        text-align: right;\n",
              "    }\n",
              "</style>\n",
              "<table border=\"1\" class=\"dataframe\">\n",
              "  <thead>\n",
              "    <tr style=\"text-align: right;\">\n",
              "      <th></th>\n",
              "      <th>Train accuracy</th>\n",
              "      <th>Test accuracy</th>\n",
              "    </tr>\n",
              "  </thead>\n",
              "  <tbody>\n",
              "    <tr>\n",
              "      <th>CountVectorizer</th>\n",
              "      <td>0.984665</td>\n",
              "      <td>0.867052</td>\n",
              "    </tr>\n",
              "    <tr>\n",
              "      <th>TfidfVectorizer</th>\n",
              "      <td>0.922426</td>\n",
              "      <td>0.852800</td>\n",
              "    </tr>\n",
              "    <tr>\n",
              "      <th>CountVectorizer + Stemming</th>\n",
              "      <td>0.972021</td>\n",
              "      <td>0.867451</td>\n",
              "    </tr>\n",
              "    <tr>\n",
              "      <th>TfidfVectorizer + Stemming</th>\n",
              "      <td>0.916574</td>\n",
              "      <td>0.855990</td>\n",
              "    </tr>\n",
              "    <tr>\n",
              "      <th>CountVectorizer + min_df</th>\n",
              "      <td>0.929005</td>\n",
              "      <td>0.868049</td>\n",
              "    </tr>\n",
              "    <tr>\n",
              "      <th>CountVectorizer + min_df + scaling</th>\n",
              "      <td>0.941222</td>\n",
              "      <td>0.844628</td>\n",
              "    </tr>\n",
              "  </tbody>\n",
              "</table>\n",
              "</div>"
            ],
            "text/plain": [
              "                                    Train accuracy  Test accuracy\n",
              "CountVectorizer                           0.984665       0.867052\n",
              "TfidfVectorizer                           0.922426       0.852800\n",
              "CountVectorizer + Stemming                0.972021       0.867451\n",
              "TfidfVectorizer + Stemming                0.916574       0.855990\n",
              "CountVectorizer + min_df                  0.929005       0.868049\n",
              "CountVectorizer + min_df + scaling        0.941222       0.844628"
            ]
          },
          "execution_count": 68,
          "metadata": {},
          "output_type": "execute_result"
        }
      ],
      "source": [
        "results = pd.concat([\n",
        "    results,\n",
        "    pd.DataFrame([[accuracy_score(y_train, cv_df_logreg_scaled.predict(cv_df_vec_train_scaled)), accuracy_score(y_test, cv_df_logreg_scaled.predict(cv_df_vec_test_scaled))]], columns=[\"Train accuracy\", \"Test accuracy\"], index=[\"CountVectorizer + min_df + scaling\"]),\n",
        "])\n",
        "results"
      ]
    },
    {
      "cell_type": "markdown",
      "metadata": {},
      "source": [
        "accuracy модели ухудшилось на обеих выборках после скалирования."
      ]
    },
    {
      "cell_type": "code",
      "execution_count": 69,
      "metadata": {},
      "outputs": [
        {
          "data": {
            "text/plain": [
              "array([-0.00621504, -0.00331929,  0.06919367, ...,  0.00173393,\n",
              "        0.01264062,  0.01037631])"
            ]
          },
          "execution_count": 69,
          "metadata": {},
          "output_type": "execute_result"
        }
      ],
      "source": [
        "cv_df_logreg_scaled.coef_[0]"
      ]
    },
    {
      "cell_type": "code",
      "execution_count": 70,
      "metadata": {},
      "outputs": [
        {
          "data": {
            "application/vnd.microsoft.datawrangler.viewer.v0+json": {
              "columns": [
                {
                  "name": "index",
                  "rawType": "object",
                  "type": "string"
                },
                {
                  "name": "coef",
                  "rawType": "float64",
                  "type": "float"
                }
              ],
              "conversionMethod": "pd.DataFrame",
              "ref": "256e7e73-778c-4031-8d62-df8276be4e2e",
              "rows": [
                [
                  "hand",
                  "1.236936202701196"
                ],
                [
                  "free",
                  "1.1133595102537555"
                ],
                [
                  "help",
                  "1.0769274073234574"
                ],
                [
                  "thank",
                  "1.038252582093146"
                ],
                [
                  "like",
                  "0.9284290766947838"
                ],
                [
                  "best",
                  "0.9106028303907412"
                ],
                [
                  "pleas",
                  "0.8397635075964291"
                ],
                [
                  "great",
                  "0.8116136419320863"
                ],
                [
                  "safe",
                  "0.7866767771003045"
                ],
                [
                  "support",
                  "0.7311586414620613"
                ]
              ],
              "shape": {
                "columns": 1,
                "rows": 10
              }
            },
            "text/html": [
              "<div>\n",
              "<style scoped>\n",
              "    .dataframe tbody tr th:only-of-type {\n",
              "        vertical-align: middle;\n",
              "    }\n",
              "\n",
              "    .dataframe tbody tr th {\n",
              "        vertical-align: top;\n",
              "    }\n",
              "\n",
              "    .dataframe thead th {\n",
              "        text-align: right;\n",
              "    }\n",
              "</style>\n",
              "<table border=\"1\" class=\"dataframe\">\n",
              "  <thead>\n",
              "    <tr style=\"text-align: right;\">\n",
              "      <th></th>\n",
              "      <th>coef</th>\n",
              "    </tr>\n",
              "  </thead>\n",
              "  <tbody>\n",
              "    <tr>\n",
              "      <th>hand</th>\n",
              "      <td>1.236936</td>\n",
              "    </tr>\n",
              "    <tr>\n",
              "      <th>free</th>\n",
              "      <td>1.113360</td>\n",
              "    </tr>\n",
              "    <tr>\n",
              "      <th>help</th>\n",
              "      <td>1.076927</td>\n",
              "    </tr>\n",
              "    <tr>\n",
              "      <th>thank</th>\n",
              "      <td>1.038253</td>\n",
              "    </tr>\n",
              "    <tr>\n",
              "      <th>like</th>\n",
              "      <td>0.928429</td>\n",
              "    </tr>\n",
              "    <tr>\n",
              "      <th>best</th>\n",
              "      <td>0.910603</td>\n",
              "    </tr>\n",
              "    <tr>\n",
              "      <th>pleas</th>\n",
              "      <td>0.839764</td>\n",
              "    </tr>\n",
              "    <tr>\n",
              "      <th>great</th>\n",
              "      <td>0.811614</td>\n",
              "    </tr>\n",
              "    <tr>\n",
              "      <th>safe</th>\n",
              "      <td>0.786677</td>\n",
              "    </tr>\n",
              "    <tr>\n",
              "      <th>support</th>\n",
              "      <td>0.731159</td>\n",
              "    </tr>\n",
              "  </tbody>\n",
              "</table>\n",
              "</div>"
            ],
            "text/plain": [
              "             coef\n",
              "hand     1.236936\n",
              "free     1.113360\n",
              "help     1.076927\n",
              "thank    1.038253\n",
              "like     0.928429\n",
              "best     0.910603\n",
              "pleas    0.839764\n",
              "great    0.811614\n",
              "safe     0.786677\n",
              "support  0.731159"
            ]
          },
          "execution_count": 70,
          "metadata": {},
          "output_type": "execute_result"
        }
      ],
      "source": [
        "barplot_df = pd.DataFrame(cv_df_logreg_scaled.coef_[0], index=cv_df.get_feature_names_out(), columns=[\"coef\"])\n",
        "barplot_df.sort_values(\"coef\", ascending=False, inplace=True)\n",
        "barplot_df.head(10)"
      ]
    },
    {
      "cell_type": "code",
      "execution_count": 71,
      "metadata": {},
      "outputs": [
        {
          "data": {
            "text/plain": [
              "Text(0, 0.5, 'Coefficient')"
            ]
          },
          "execution_count": 71,
          "metadata": {},
          "output_type": "execute_result"
        },
        {
          "data": {
            "image/png": "[encoded data removed]",
            "text/plain": [
              "<Figure size 640x480 with 1 Axes>"
            ]
          },
          "metadata": {},
          "output_type": "display_data"
        }
      ],
      "source": [
        "ax = sns.barplot(data=barplot_df.head(10), x=barplot_df.head(10).index, y=\"coef\")\n",
        "ax.set_xlabel(\"Words\")\n",
        "ax.set_ylabel(\"Coefficient\")"
      ]
    },
    {
      "cell_type": "code",
      "execution_count": 72,
      "metadata": {},
      "outputs": [
        {
          "data": {
            "text/plain": [
              "Text(0, 0.5, 'Coefficient')"
            ]
          },
          "execution_count": 72,
          "metadata": {},
          "output_type": "execute_result"
        },
        {
          "data": {
            "image/png": "[encoded data removed]",
            "text/plain": [
              "<Figure size 640x480 with 1 Axes>"
            ]
          },
          "metadata": {},
          "output_type": "display_data"
        }
      ],
      "source": [
        "ax = sns.barplot(data=np.abs(barplot_df.tail(10)), x=barplot_df.tail(10).index, y=\"coef\")\n",
        "ax.set_xlabel(\"Words\")\n",
        "ax.set_ylabel(\"Coefficient\")"
      ]
    },
    {
      "cell_type": "markdown",
      "metadata": {
        "id": "ThcEfzY1LHET"
      },
      "source": [
        "**Ответ:** токены с наибольшими положительными весами указывают на позитивные (положительно окрашенные) твиты, а токены с наибольшими отрицательными весами — на негативные твиты. Действительно, среди положительных токенов можно найти `free`, `great`, `best`, а среди отрицательных — `panic`, `scam`, `kill`. Наличие таких токенов в твите может указывать на его эмоциональную окраску."
      ]
    },
    {
      "cell_type": "markdown",
      "metadata": {
        "id": "ktJVOdrIHq7B"
      },
      "source": [
        "## Задание 7 Другие признаки (1.5 балла)"
      ]
    },
    {
      "cell_type": "markdown",
      "metadata": {
        "id": "Yt3jRCZ2H0Og"
      },
      "source": [
        "Мы были сконцентрированы на работе с текстами твиттов и не использовали другие признаки - имена пользователя, дату и местоположение"
      ]
    },
    {
      "cell_type": "markdown",
      "metadata": {
        "id": "52wjewCCo_di"
      },
      "source": [
        "Изучите признаки UserName и ScreenName. полезны ли они? Если полезны, то закодируйте их, добавьте к матрице с отскалированными признаками, обучите логистическую регрессию, замерьте качество."
      ]
    },
    {
      "cell_type": "code",
      "execution_count": 73,
      "metadata": {},
      "outputs": [
        {
          "data": {
            "text/plain": [
              "(33444, 6)"
            ]
          },
          "execution_count": 73,
          "metadata": {},
          "output_type": "execute_result"
        }
      ],
      "source": [
        "df.shape"
      ]
    },
    {
      "cell_type": "code",
      "execution_count": 74,
      "metadata": {
        "id": "63thouYZptj6"
      },
      "outputs": [
        {
          "data": {
            "text/plain": [
              "33444"
            ]
          },
          "execution_count": 74,
          "metadata": {},
          "output_type": "execute_result"
        }
      ],
      "source": [
        "df[\"UserName\"].nunique()"
      ]
    },
    {
      "cell_type": "code",
      "execution_count": 75,
      "metadata": {},
      "outputs": [
        {
          "data": {
            "text/plain": [
              "33444"
            ]
          },
          "execution_count": 75,
          "metadata": {},
          "output_type": "execute_result"
        }
      ],
      "source": [
        "df[\"ScreenName\"].nunique()"
      ]
    },
    {
      "cell_type": "markdown",
      "metadata": {
        "id": "r8_qR-gnpT3a"
      },
      "source": [
        "**Ответ:** количество уникальных имен пользователей и отображаемых имен пользователей совпадает с количеством твитов, что говорит о том, что каждый твит был написан уникальным пользователем. Поэтому эти признаки играют роль идентификаторов и не несут никакой смысловой нагрузки.\n",
        "\n",
        "Выбросим эти признаки из `X_train` и `X_test`."
      ]
    },
    {
      "cell_type": "code",
      "execution_count": 76,
      "metadata": {},
      "outputs": [
        {
          "data": {
            "text/plain": [
              "((23410, 3), (10034, 3))"
            ]
          },
          "execution_count": 76,
          "metadata": {},
          "output_type": "execute_result"
        }
      ],
      "source": [
        "X_train, X_test = X_train.drop(columns=[\"UserName\", \"ScreenName\"]), X_test.drop(columns=[\"UserName\", \"ScreenName\"])\n",
        "X_train.shape, X_test.shape"
      ]
    },
    {
      "cell_type": "code",
      "execution_count": 77,
      "metadata": {},
      "outputs": [
        {
          "data": {
            "application/vnd.microsoft.datawrangler.viewer.v0+json": {
              "columns": [
                {
                  "name": "index",
                  "rawType": "int64",
                  "type": "integer"
                },
                {
                  "name": "Location",
                  "rawType": "object",
                  "type": "string"
                },
                {
                  "name": "TweetAt",
                  "rawType": "object",
                  "type": "string"
                },
                {
                  "name": "OriginalTweet",
                  "rawType": "object",
                  "type": "string"
                }
              ],
              "conversionMethod": "pd.DataFrame",
              "ref": "5eccf2c2-e339-4c96-8bcc-00a065f46bb5",
              "rows": [
                [
                  "25621",
                  "Unknown",
                  "06-04-2020",
                  "Why we still want to buy so much stuff during quarantine https://t.co/1m881CwFUv #shopping #Covid_19 #Online"
                ],
                [
                  "30135",
                  "Boston, MA HQ",
                  "10-04-2020",
                  "With driving even more usage a strong strategy is critical now more then ever Luckily and April 16 webinar will dive into growing app awareness and targeting high lifetime value users"
                ],
                [
                  "28899",
                  "India",
                  "09-04-2020",
                  "@Canon_India I am very happy.. Great job by @Canon_India #CanonForCommunity\r\r\nhttps://t.co/Z0intkS34x"
                ],
                [
                  "5989",
                  "Mayfair, London, UK",
                  "19-03-2020",
                  "The U.S national debt will likely exceed $30 Trillion after the unprecedented borrowing by the Trump administration and MnuchinÃÂs Treasury during the #coronavirus crisis. The Federal Reserve could be doing much more to cushion the blow. U.S is a consumer led economy on the brink."
                ],
                [
                  "4367",
                  "WNC",
                  "18-03-2020",
                  "Finally got to the grocery store. Honestly, what are you people doing with all the toilet paper? #coronavirus https://t.co/JmoBv8z0U0"
                ]
              ],
              "shape": {
                "columns": 3,
                "rows": 5
              }
            },
            "text/html": [
              "<div>\n",
              "<style scoped>\n",
              "    .dataframe tbody tr th:only-of-type {\n",
              "        vertical-align: middle;\n",
              "    }\n",
              "\n",
              "    .dataframe tbody tr th {\n",
              "        vertical-align: top;\n",
              "    }\n",
              "\n",
              "    .dataframe thead th {\n",
              "        text-align: right;\n",
              "    }\n",
              "</style>\n",
              "<table border=\"1\" class=\"dataframe\">\n",
              "  <thead>\n",
              "    <tr style=\"text-align: right;\">\n",
              "      <th></th>\n",
              "      <th>Location</th>\n",
              "      <th>TweetAt</th>\n",
              "      <th>OriginalTweet</th>\n",
              "    </tr>\n",
              "  </thead>\n",
              "  <tbody>\n",
              "    <tr>\n",
              "      <th>25621</th>\n",
              "      <td>Unknown</td>\n",
              "      <td>06-04-2020</td>\n",
              "      <td>Why we still want to buy so much stuff during ...</td>\n",
              "    </tr>\n",
              "    <tr>\n",
              "      <th>30135</th>\n",
              "      <td>Boston, MA HQ</td>\n",
              "      <td>10-04-2020</td>\n",
              "      <td>With driving even more usage a strong strategy...</td>\n",
              "    </tr>\n",
              "    <tr>\n",
              "      <th>28899</th>\n",
              "      <td>India</td>\n",
              "      <td>09-04-2020</td>\n",
              "      <td>@Canon_India I am very happy.. Great job by @C...</td>\n",
              "    </tr>\n",
              "    <tr>\n",
              "      <th>5989</th>\n",
              "      <td>Mayfair, London, UK</td>\n",
              "      <td>19-03-2020</td>\n",
              "      <td>The U.S national debt will likely exceed $30 T...</td>\n",
              "    </tr>\n",
              "    <tr>\n",
              "      <th>4367</th>\n",
              "      <td>WNC</td>\n",
              "      <td>18-03-2020</td>\n",
              "      <td>Finally got to the grocery store. Honestly, wh...</td>\n",
              "    </tr>\n",
              "  </tbody>\n",
              "</table>\n",
              "</div>"
            ],
            "text/plain": [
              "                  Location     TweetAt  \\\n",
              "25621              Unknown  06-04-2020   \n",
              "30135        Boston, MA HQ  10-04-2020   \n",
              "28899                India  09-04-2020   \n",
              "5989   Mayfair, London, UK  19-03-2020   \n",
              "4367                   WNC  18-03-2020   \n",
              "\n",
              "                                           OriginalTweet  \n",
              "25621  Why we still want to buy so much stuff during ...  \n",
              "30135  With driving even more usage a strong strategy...  \n",
              "28899  @Canon_India I am very happy.. Great job by @C...  \n",
              "5989   The U.S national debt will likely exceed $30 T...  \n",
              "4367   Finally got to the grocery store. Honestly, wh...  "
            ]
          },
          "execution_count": 77,
          "metadata": {},
          "output_type": "execute_result"
        }
      ],
      "source": [
        "X_train.head()"
      ]
    },
    {
      "cell_type": "markdown",
      "metadata": {
        "id": "ythEcFSkt7y3"
      },
      "source": [
        "Изучите признак TweetAt в обучающей выборке: преобразуйте его к типу datetime и нарисуйте его гистограмму с разделением по цвету на основе целевой переменной. Полезен ли он? Если полезен, то закодируйте его, добавьте к матрице с отскалированными признаками, обучите логистическую регрессию, замерьте качество."
      ]
    },
    {
      "cell_type": "code",
      "execution_count": 78,
      "metadata": {
        "id": "Lxb_k0JLirNv"
      },
      "outputs": [
        {
          "data": {
            "text/plain": [
              "25621   2020-04-06\n",
              "30135   2020-04-10\n",
              "28899   2020-04-09\n",
              "5989    2020-03-19\n",
              "4367    2020-03-18\n",
              "Name: TweetAt, dtype: datetime64[ns]"
            ]
          },
          "execution_count": 78,
          "metadata": {},
          "output_type": "execute_result"
        }
      ],
      "source": [
        "X_train[\"TweetAt\"] = pd.to_datetime(X_train[\"TweetAt\"], format=\"%d-%m-%Y\")\n",
        "X_train[\"TweetAt\"].head()"
      ]
    },
    {
      "cell_type": "code",
      "execution_count": 79,
      "metadata": {},
      "outputs": [
        {
          "data": {
            "text/plain": [
              "30"
            ]
          },
          "execution_count": 79,
          "metadata": {},
          "output_type": "execute_result"
        }
      ],
      "source": [
        "X_train[\"TweetAt\"].nunique()"
      ]
    },
    {
      "cell_type": "code",
      "execution_count": 80,
      "metadata": {},
      "outputs": [
        {
          "data": {
            "image/png": "[encoded data removed]",
            "text/plain": [
              "<Figure size 1500x500 with 1 Axes>"
            ]
          },
          "metadata": {},
          "output_type": "display_data"
        }
      ],
      "source": [
        "fig, ax = plt.subplots(figsize=(15, 5))\n",
        "sns.histplot(data=pd.concat([X_train, y_train], axis=1), x=\"TweetAt\", hue=\"Sentiment\", bins=30, ax=ax);"
      ]
    },
    {
      "cell_type": "markdown",
      "metadata": {
        "id": "4IdLBdpQxM-G"
      },
      "source": [
        "**Ответ:** почти в каждый из дней положительные твиты преобладают над отрицательными. Из-за этого данный признак будет мало полезен для классификации твитов по эмоциональной окраске. Исключим его из `X_train` и `X_test`."
      ]
    },
    {
      "cell_type": "code",
      "execution_count": 81,
      "metadata": {},
      "outputs": [
        {
          "data": {
            "text/plain": [
              "((23410, 2), (10034, 2))"
            ]
          },
          "execution_count": 81,
          "metadata": {},
          "output_type": "execute_result"
        }
      ],
      "source": [
        "X_train, X_test = X_train.drop(columns=[\"TweetAt\"]), X_test.drop(columns=[\"TweetAt\"])\n",
        "X_train.shape, X_test.shape"
      ]
    },
    {
      "cell_type": "markdown",
      "metadata": {
        "id": "r2JtRPhNP6qx"
      },
      "source": [
        "Поработайте с признаком Location в обучающей выборке. Сколько уникальных значений?"
      ]
    },
    {
      "cell_type": "code",
      "execution_count": 82,
      "metadata": {
        "id": "xYQZQ1FRNpoe"
      },
      "outputs": [
        {
          "data": {
            "text/plain": [
              "Location\n",
              "Unknown                           4944\n",
              "London                             301\n",
              "United States                      295\n",
              "London, England                    274\n",
              "New York, NY                       223\n",
              "                                  ... \n",
              "Work: Kent and Live: Sussex          1\n",
              "Somewhere on TradingView             1\n",
              "Honolulu, Hawai?i                    1\n",
              "SFO                                  1\n",
              "Waterville, Ireland Austin, TX       1\n",
              "Name: count, Length: 7949, dtype: int64"
            ]
          },
          "execution_count": 82,
          "metadata": {},
          "output_type": "execute_result"
        }
      ],
      "source": [
        "locations = X_train[\"Location\"].value_counts()\n",
        "locations"
      ]
    },
    {
      "cell_type": "code",
      "execution_count": 83,
      "metadata": {},
      "outputs": [
        {
          "data": {
            "text/plain": [
              "7949"
            ]
          },
          "execution_count": 83,
          "metadata": {},
          "output_type": "execute_result"
        }
      ],
      "source": [
        "X_train[\"Location\"].nunique()"
      ]
    },
    {
      "cell_type": "markdown",
      "metadata": {
        "id": "6k4JwpRTQISa"
      },
      "source": [
        "Постройте гистограмму топ-10 по популярности местоположений (исключая Unknown)"
      ]
    },
    {
      "cell_type": "code",
      "execution_count": 84,
      "metadata": {
        "id": "J91YkhegJ0mz"
      },
      "outputs": [
        {
          "data": {
            "image/png": "[encoded data removed]",
            "text/plain": [
              "<Figure size 1400x500 with 1 Axes>"
            ]
          },
          "metadata": {},
          "output_type": "display_data"
        }
      ],
      "source": [
        "fig, ax = plt.subplots(figsize=(14, 5))\n",
        "sns.barplot(data=locations.drop(\"Unknown\").head(10), ax=ax);"
      ]
    },
    {
      "cell_type": "markdown",
      "metadata": {
        "id": "ZOsv3lODTfYB"
      },
      "source": [
        "Видно, что многие местоположения включают в себя более точное название места, чем другие (Например, у некоторых стоит London, UK; а у некоторых просто UK или United Kingdom).\n",
        "\n",
        "Создайте новый признак WiderLocation, который содержит самое широкое местоположение (например, из London, UK должно получиться UK). Сколько уникальных категорий теперь? Постройте аналогичную гистограмму."
      ]
    },
    {
      "cell_type": "code",
      "execution_count": 85,
      "metadata": {
        "id": "mSkow6acOMyD"
      },
      "outputs": [
        {
          "data": {
            "text/plain": [
              "WiderLocation\n",
              "Unknown                    4944\n",
              "USA                         950\n",
              "England                     860\n",
              "CA                          597\n",
              "India                       535\n",
              "                           ... \n",
              "The DC & The OC               1\n",
              "UK - Europe                   1\n",
              "not Drumpf's Reich USSR       1\n",
              "iowa                          1\n",
              "NIGERIA                       1\n",
              "Name: count, Length: 4921, dtype: int64"
            ]
          },
          "execution_count": 85,
          "metadata": {},
          "output_type": "execute_result"
        }
      ],
      "source": [
        "def wider_location(location: str) -> str:\n",
        "    splitted = location.split(\", \")\n",
        "    return splitted[-1]\n",
        "\n",
        "X_train[\"WiderLocation\"], X_test[\"WiderLocation\"] = X_train[\"Location\"].apply(wider_location), X_test[\"Location\"].apply(wider_location)\n",
        "wider_locations = X_train[\"WiderLocation\"].value_counts()\n",
        "wider_locations"
      ]
    },
    {
      "cell_type": "code",
      "execution_count": 86,
      "metadata": {},
      "outputs": [
        {
          "data": {
            "text/plain": [
              "4921"
            ]
          },
          "execution_count": 86,
          "metadata": {},
          "output_type": "execute_result"
        }
      ],
      "source": [
        "X_train[\"WiderLocation\"].nunique()"
      ]
    },
    {
      "cell_type": "code",
      "execution_count": 87,
      "metadata": {},
      "outputs": [
        {
          "data": {
            "image/png": "[encoded data removed]",
            "text/plain": [
              "<Figure size 1400x500 with 1 Axes>"
            ]
          },
          "metadata": {},
          "output_type": "display_data"
        }
      ],
      "source": [
        "fig, ax = plt.subplots(figsize=(14, 5))\n",
        "sns.barplot(data=wider_locations.drop(\"Unknown\").head(10), ax=ax);"
      ]
    },
    {
      "cell_type": "markdown",
      "metadata": {
        "id": "cgyWrD2eVfff"
      },
      "source": [
        "Закодируйте признак WiderLocation с помощью OHE таким образом, чтобы создались только столбцы для местоположений, которые встречаются более одного раза. Сколько таких значений?\n"
      ]
    },
    {
      "cell_type": "code",
      "execution_count": 89,
      "metadata": {
        "id": "SeJBfBWgPvg_"
      },
      "outputs": [],
      "source": [
        "from sklearn.preprocessing import OneHotEncoder\n",
        "\n",
        "ohe = OneHotEncoder(\n",
        "    sparse_output=False,\n",
        "    handle_unknown=\"ignore\",\n",
        "    categories=[wider_locations[wider_locations > 1].index.drop(\"Unknown\").tolist()]\n",
        ")"
      ]
    },
    {
      "cell_type": "code",
      "execution_count": 90,
      "metadata": {},
      "outputs": [
        {
          "data": {
            "text/plain": [
              "((23410, 1009), (10034, 1009))"
            ]
          },
          "execution_count": 90,
          "metadata": {},
          "output_type": "execute_result"
        }
      ],
      "source": [
        "X_train_wider_locations = ohe.fit_transform(X_train[[\"WiderLocation\"]])\n",
        "X_test_wider_locations = ohe.transform(X_test[[\"WiderLocation\"]])\n",
        "X_train_wider_locations.shape, X_test_wider_locations.shape"
      ]
    },
    {
      "cell_type": "markdown",
      "metadata": {
        "id": "ZyMX5kZuimPK"
      },
      "source": [
        "Добавьте этот признак к матрице отскалированных текстовых признаков, обучите логистическую регрессию, замерьте качество. Как оно изменилось? Оказался ли признак полезным?\n",
        "\n",
        "\n",
        "*Подсказка:* используйте параметр `categories` в энкодере."
      ]
    },
    {
      "cell_type": "code",
      "execution_count": 91,
      "metadata": {
        "id": "EO1jNPeeim7A"
      },
      "outputs": [],
      "source": [
        "X_train, X_test = np.hstack([cv_df_vec_train_scaled, X_train_wider_locations]), np.hstack([cv_df_vec_test_scaled, X_test_wider_locations])"
      ]
    },
    {
      "cell_type": "code",
      "execution_count": 92,
      "metadata": {},
      "outputs": [
        {
          "name": "stdout",
          "output_type": "stream",
          "text": [
            "Train accuracy: 0.9447671935070483\n",
            "Test accuracy: 0.8443292804464819\n"
          ]
        }
      ],
      "source": [
        "locations_logreg = LogisticRegression(max_iter=1000)\n",
        "locations_logreg.fit(X_train, y_train)\n",
        "\n",
        "print(\"Train accuracy:\", accuracy_score(y_train, locations_logreg.predict(X_train)))\n",
        "print(\"Test accuracy:\", accuracy_score(y_test, locations_logreg.predict(X_test)))"
      ]
    },
    {
      "cell_type": "code",
      "execution_count": 93,
      "metadata": {},
      "outputs": [
        {
          "data": {
            "application/vnd.microsoft.datawrangler.viewer.v0+json": {
              "columns": [
                {
                  "name": "index",
                  "rawType": "object",
                  "type": "string"
                },
                {
                  "name": "Train accuracy",
                  "rawType": "float64",
                  "type": "float"
                },
                {
                  "name": "Test accuracy",
                  "rawType": "float64",
                  "type": "float"
                }
              ],
              "conversionMethod": "pd.DataFrame",
              "ref": "36761f88-d6f6-4a4e-91ae-5b07967335e6",
              "rows": [
                [
                  "CountVectorizer",
                  "0.9846646732165741",
                  "0.8670520231213873"
                ],
                [
                  "TfidfVectorizer",
                  "0.9224263135412217",
                  "0.85280047837353"
                ],
                [
                  "CountVectorizer + Stemming",
                  "0.9720205040580948",
                  "0.8674506677297189"
                ],
                [
                  "TfidfVectorizer + Stemming",
                  "0.9165741136266553",
                  "0.8559896352401833"
                ],
                [
                  "CountVectorizer + min_df",
                  "0.9290046988466467",
                  "0.8680486346422165"
                ],
                [
                  "CountVectorizer + min_df + scaling",
                  "0.9412217001281503",
                  "0.8446282639027307"
                ],
                [
                  "CountVectorizer + min_df + WiderLocation",
                  "0.9447671935070483",
                  "0.8443292804464819"
                ]
              ],
              "shape": {
                "columns": 2,
                "rows": 7
              }
            },
            "text/html": [
              "<div>\n",
              "<style scoped>\n",
              "    .dataframe tbody tr th:only-of-type {\n",
              "        vertical-align: middle;\n",
              "    }\n",
              "\n",
              "    .dataframe tbody tr th {\n",
              "        vertical-align: top;\n",
              "    }\n",
              "\n",
              "    .dataframe thead th {\n",
              "        text-align: right;\n",
              "    }\n",
              "</style>\n",
              "<table border=\"1\" class=\"dataframe\">\n",
              "  <thead>\n",
              "    <tr style=\"text-align: right;\">\n",
              "      <th></th>\n",
              "      <th>Train accuracy</th>\n",
              "      <th>Test accuracy</th>\n",
              "    </tr>\n",
              "  </thead>\n",
              "  <tbody>\n",
              "    <tr>\n",
              "      <th>CountVectorizer</th>\n",
              "      <td>0.984665</td>\n",
              "      <td>0.867052</td>\n",
              "    </tr>\n",
              "    <tr>\n",
              "      <th>TfidfVectorizer</th>\n",
              "      <td>0.922426</td>\n",
              "      <td>0.852800</td>\n",
              "    </tr>\n",
              "    <tr>\n",
              "      <th>CountVectorizer + Stemming</th>\n",
              "      <td>0.972021</td>\n",
              "      <td>0.867451</td>\n",
              "    </tr>\n",
              "    <tr>\n",
              "      <th>TfidfVectorizer + Stemming</th>\n",
              "      <td>0.916574</td>\n",
              "      <td>0.855990</td>\n",
              "    </tr>\n",
              "    <tr>\n",
              "      <th>CountVectorizer + min_df</th>\n",
              "      <td>0.929005</td>\n",
              "      <td>0.868049</td>\n",
              "    </tr>\n",
              "    <tr>\n",
              "      <th>CountVectorizer + min_df + scaling</th>\n",
              "      <td>0.941222</td>\n",
              "      <td>0.844628</td>\n",
              "    </tr>\n",
              "    <tr>\n",
              "      <th>CountVectorizer + min_df + WiderLocation</th>\n",
              "      <td>0.944767</td>\n",
              "      <td>0.844329</td>\n",
              "    </tr>\n",
              "  </tbody>\n",
              "</table>\n",
              "</div>"
            ],
            "text/plain": [
              "                                          Train accuracy  Test accuracy\n",
              "CountVectorizer                                 0.984665       0.867052\n",
              "TfidfVectorizer                                 0.922426       0.852800\n",
              "CountVectorizer + Stemming                      0.972021       0.867451\n",
              "TfidfVectorizer + Stemming                      0.916574       0.855990\n",
              "CountVectorizer + min_df                        0.929005       0.868049\n",
              "CountVectorizer + min_df + scaling              0.941222       0.844628\n",
              "CountVectorizer + min_df + WiderLocation        0.944767       0.844329"
            ]
          },
          "execution_count": 93,
          "metadata": {},
          "output_type": "execute_result"
        }
      ],
      "source": [
        "results = pd.concat([\n",
        "    results,\n",
        "    pd.DataFrame([[accuracy_score(y_train, locations_logreg.predict(X_train)), accuracy_score(y_test, locations_logreg.predict(X_test))]], columns=[\"Train accuracy\", \"Test accuracy\"], index=[\"CountVectorizer + min_df + WiderLocation\"]),\n",
        "])\n",
        "results"
      ]
    },
    {
      "cell_type": "markdown",
      "metadata": {
        "id": "7dHsGlDRYUQt"
      },
      "source": [
        "**Ответ:** accuracy модели почти не изменилось: небольшой прирост на обучающей выборке и небольшой спад на тестовой. Это может говорить о том, что признак не особо информативен."
      ]
    },
    {
      "cell_type": "code",
      "execution_count": 99,
      "metadata": {},
      "outputs": [
        {
          "name": "stderr",
          "output_type": "stream",
          "text": [
            "/var/folders/7m/_s2dd8053g97sjss_c0260mc0000gn/T/ipykernel_17513/255163933.py:3: UserWarning: set_ticklabels() should only be used with a fixed number of ticks, i.e. after set_ticks() or using a FixedLocator.\n",
            "  ax.set_xticklabels(ax.get_xticklabels(), rotation=30);\n"
          ]
        },
        {
          "data": {
            "image/png": "[encoded data removed]",
            "text/plain": [
              "<Figure size 1500x500 with 1 Axes>"
            ]
          },
          "metadata": {},
          "output_type": "display_data"
        }
      ],
      "source": [
        "fig, ax = plt.subplots(figsize=(15, 5))\n",
        "sns.lineplot(data=results, ax=ax)\n",
        "ax.set_xticklabels(ax.get_xticklabels(), rotation=30);"
      ]
    },
    {
      "cell_type": "markdown",
      "metadata": {},
      "source": [
        "По итогу получили, что лучший accuracy на тестовой выборке был достигнут при использовании `CountVectorizer` с параметром `min_df=11` и стеммингом."
      ]
    }
  ],
  "metadata": {
    "colab": {
      "provenance": []
    },
    "kernelspec": {
      "display_name": "base",
      "language": "python",
      "name": "python3"
    },
    "language_info": {
      "codemirror_mode": {
        "name": "ipython",
        "version": 3
      },
      "file_extension": ".py",
      "mimetype": "text/x-python",
      "name": "python",
      "nbconvert_exporter": "python",
      "pygments_lexer": "ipython3",
      "version": "3.12.7"
    }
  },
  "nbformat": 4,
  "nbformat_minor": 0
}
